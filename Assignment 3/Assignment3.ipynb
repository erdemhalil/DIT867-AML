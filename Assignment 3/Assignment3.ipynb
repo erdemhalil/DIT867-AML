{
 "cells": [
  {
   "cell_type": "markdown",
   "metadata": {},
   "source": [
    "**Course Name：** DAT341 / DIT867 Applied Machine Learning\n",
    "\n",
    "**Examiner：** Richard Johansson (richajo@chalmers.se)\n",
    "\n",
    "**Assignment No.:** Assignment 3 - Stance classification\n",
    "\n",
    "**Release Date:** Mon, 26 Jan 2024 0:00am\n",
    "\n",
    "**Due Date:** Mon, 16 Feb 2024 11:59pm\n",
    "\n",
    "**Group Name:** PA 3 3\n",
    "\n",
    "**Group Members:**\n",
    "- Natalia Alvarado (gusalvarsi@student.gu.se)\n",
    "- Erdem Halil (gushaliler@student.gu.se)\n",
    "- Xujie Li (guslixuf@student.gu.se)"
   ]
  },
  {
   "cell_type": "code",
   "execution_count": null,
   "metadata": {},
   "outputs": [],
   "source": []
  }
 ],
 "metadata": {
  "language_info": {
   "name": "python"
  }
 },
 "nbformat": 4,
 "nbformat_minor": 2
}
