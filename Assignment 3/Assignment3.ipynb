{
 "cells": [
  {
   "cell_type": "markdown",
   "metadata": {},
   "source": [
    "**Course Name：** DAT341 / DIT867 Applied Machine Learning\n",
    "\n",
    "**Examiner：** Richard Johansson (richajo@chalmers.se)\n",
    "\n",
    "**Assignment No.:** Assignment 3 - Stance classification\n",
    "\n",
    "**Release Date:** Mon, 26 Jan 2024 0:00am\n",
    "\n",
    "**Due Date:** Mon, 16 Feb 2024 11:59pm\n",
    "\n",
    "**Group Name:** PA 3 3\n",
    "\n",
    "**Group Members:**\n",
    "- Natalia Alvarado (gusalvarsi@student.gu.se)\n",
    "- Erdem Halil (gushaliler@student.gu.se)\n",
    "- Xujie Li (guslixuf@student.gu.se)"
   ]
  },
  {
   "cell_type": "code",
   "execution_count": 23,
   "metadata": {},
   "outputs": [
    {
     "data": {
      "text/plain": [
       "0        1\n",
       "1        0\n",
       "2        0\n",
       "3        0\n",
       "4        0\n",
       "        ..\n",
       "50063    0\n",
       "50064    0\n",
       "50065    0\n",
       "50066    0\n",
       "50067    1\n",
       "Name: label, Length: 50068, dtype: int64"
      ]
     },
     "execution_count": 23,
     "metadata": {},
     "output_type": "execute_result"
    }
   ],
   "source": [
    "# Import necessary libraries\n",
    "import pandas as pd\n",
    "from sentence_transformers import SentenceTransformer\n",
    "from sklearn.linear_model import LogisticRegression\n",
    "from sklearn.metrics import accuracy_score\n",
    "\n",
    "# Load the data from the .tsv file\n",
    "df = pd.read_csv(\"a3_train_final.tsv\", sep=\"\\t\", header=None, names=[\"annotation\", \"text\"])\n",
    "\n",
    "# Load the data from the test file\n",
    "test_df = pd.read_csv(\"a3_test.tsv\", sep=\"\\t\", header=None, names=[\"annotation\", \"text\"])\n",
    "\n",
    "# Extract labels from the annotation column\n",
    "df[\"label\"] = df[\"annotation\"].apply(lambda x: int(x.split(\"/\")[0]))\n",
    "\n",
    "test_labels, test_texts = test_df[\"annotation\"], test_df[\"text\"]\n",
    "\n",
    "# Split the data into training and testing sets\n",
    "train_texts, train_labels = df[\"text\"], df[\"label\"]"
   ]
  },
  {
   "cell_type": "code",
   "execution_count": 19,
   "metadata": {},
   "outputs": [
    {
     "data": {
      "application/vnd.jupyter.widget-view+json": {
       "model_id": "65a831836ddb46488d0747f7c8d0f99f",
       "version_major": 2,
       "version_minor": 0
      },
      "text/plain": [
       "Batches:   0%|          | 0/1565 [00:00<?, ?it/s]"
      ]
     },
     "metadata": {},
     "output_type": "display_data"
    },
    {
     "data": {
      "application/vnd.jupyter.widget-view+json": {
       "model_id": "4193bf918f614eb98363691009e9d2ea",
       "version_major": 2,
       "version_minor": 0
      },
      "text/plain": [
       "Batches:   0%|          | 0/64 [00:00<?, ?it/s]"
      ]
     },
     "metadata": {},
     "output_type": "display_data"
    }
   ],
   "source": [
    "# 0.7962852007189934\n",
    "\n",
    "# Load a pre-trained SentenceTransformer model\n",
    "model = SentenceTransformer('all-MiniLM-L6-v2')\n",
    "\n",
    "# Encode the training and testing texts into embeddings\n",
    "train_embeddings = model.encode(train_texts.tolist(), convert_to_tensor=True, show_progress_bar=True)\n",
    "test_embeddings = model.encode(test_texts.tolist(), convert_to_tensor=True, show_progress_bar=True)"
   ]
  },
  {
   "cell_type": "code",
   "execution_count": 20,
   "metadata": {},
   "outputs": [],
   "source": [
    "from sklearn.feature_extraction.text import TfidfVectorizer\n",
    "\n",
    "# Preprocess text features using TF-IDF\n",
    "tfidf_vectorizer = TfidfVectorizer()\n",
    "train_tfidf = tfidf_vectorizer.fit_transform(train_texts)\n",
    "test_tfidf = tfidf_vectorizer.transform(test_texts)"
   ]
  },
  {
   "cell_type": "code",
   "execution_count": 22,
   "metadata": {},
   "outputs": [
    {
     "name": "stdout",
     "output_type": "stream",
     "text": [
      "Accuracy: 0.8111819519372241\n"
     ]
    }
   ],
   "source": [
    "from sklearn.decomposition import TruncatedSVD\n",
    "from sklearn.svm import SVC\n",
    "\n",
    "# Reduce the dimensionality of the TF-IDF features\n",
    "svd = TruncatedSVD(n_components=384)  # Match the dimensionality of the SentenceTransformer embeddings\n",
    "train_tfidf_svd = svd.fit_transform(train_tfidf)\n",
    "test_tfidf_svd = svd.transform(test_tfidf)\n",
    "\n",
    "# Train a Support Vector Machine classifier\n",
    "classifier = SVC(kernel='linear')\n",
    "classifier.fit(train_tfidf_svd, train_labels)\n",
    "\n",
    "# Predict on the test set\n",
    "predictions = classifier.predict(test_tfidf_svd)\n",
    "\n",
    "# Evaluate the accuracy of the classifier\n",
    "accuracy = accuracy_score(test_labels, predictions)\n",
    "print(\"Accuracy:\", accuracy)"
   ]
  },
  {
   "cell_type": "code",
   "execution_count": null,
   "metadata": {},
   "outputs": [
    {
     "name": "stdout",
     "output_type": "stream",
     "text": [
      "Accuracy: 0.8102010789602746\n"
     ]
    }
   ],
   "source": [
    "# Train a Logistic Regression classifier\n",
    "classifier = LogisticRegression(max_iter=1000)\n",
    "classifier.fit(train_embeddings, train_labels)\n",
    "\n",
    "# Predict on the test set\n",
    "predictions = classifier.predict(test_embeddings)\n",
    "\n",
    "# Evaluate the accuracy of the classifier\n",
    "accuracy = accuracy_score(test_labels, predictions)\n",
    "print(\"Accuracy:\", accuracy)"
   ]
  },
  {
   "cell_type": "code",
   "execution_count": null,
   "metadata": {},
   "outputs": [
    {
     "name": "stdout",
     "output_type": "stream",
     "text": [
      "Accuracy: 0.8136341343795979\n"
     ]
    }
   ],
   "source": [
    "# Train a Support Vector Machine classifier\n",
    "from sklearn.svm import SVC\n",
    "\n",
    "classifier = SVC(kernel='linear')\n",
    "classifier.fit(train_embeddings, train_labels)\n",
    "\n",
    "# Predict on the test set\n",
    "predictions = classifier.predict(test_embeddings)\n",
    "\n",
    "# Evaluate the accuracy of the classifier\n",
    "accuracy = accuracy_score(test_labels, predictions)\n",
    "print(\"Accuracy:\", accuracy)"
   ]
  },
  {
   "cell_type": "code",
   "execution_count": null,
   "metadata": {},
   "outputs": [],
   "source": [
    "# Using TFIDF\n",
    "# Train a Support Vector Machine classifier\n",
    "classifier1 = SVC(kernel='linear')\n",
    "classifier1.fit(train_features, train_labels)\n",
    "\n",
    "# Predict on the test set\n",
    "predictions1 = classifier1.predict(test_features)\n",
    "\n",
    "# Evaluate the accuracy of the classifier\n",
    "accuracy1 = accuracy_score(test_labels, predictions1)\n",
    "print(\"Accuracy:\", accuracy1)"
   ]
  },
  {
   "cell_type": "code",
   "execution_count": null,
   "metadata": {},
   "outputs": [
    {
     "name": "stdout",
     "output_type": "stream",
     "text": [
      "Accuracy: 0.815105443845022\n"
     ]
    }
   ],
   "source": [
    "# Train a Random Forest classifier\n",
    "from sklearn.ensemble import RandomForestClassifier\n",
    "\n",
    "\n",
    "classifier = RandomForestClassifier(n_estimators=100, random_state=42)\n",
    "classifier.fit(train_embeddings, train_labels)\n",
    "\n",
    "# Predict on the test set\n",
    "predictions = classifier.predict(test_embeddings)\n",
    "\n",
    "# Evaluate the accuracy of the classifier\n",
    "accuracy = accuracy_score(test_labels, predictions)\n",
    "print(\"Accuracy:\", accuracy)"
   ]
  },
  {
   "cell_type": "code",
   "execution_count": null,
   "metadata": {},
   "outputs": [
    {
     "name": "stdout",
     "output_type": "stream",
     "text": [
      "Accuracy: 0.7807748896517901\n"
     ]
    }
   ],
   "source": [
    "# Train a Gradient Boosting classifier\n",
    "from sklearn.ensemble import GradientBoostingClassifier\n",
    "\n",
    "\n",
    "classifier = GradientBoostingClassifier(n_estimators=100, random_state=42)\n",
    "classifier.fit(train_embeddings, train_labels)\n",
    "\n",
    "# Predict on the test set\n",
    "predictions = classifier.predict(test_embeddings)\n",
    "\n",
    "# Evaluate the accuracy of the classifier\n",
    "accuracy = accuracy_score(test_labels, predictions)\n",
    "print(\"Accuracy:\", accuracy)"
   ]
  }
 ],
 "metadata": {
  "kernelspec": {
   "display_name": "base",
   "language": "python",
   "name": "python3"
  },
  "language_info": {
   "codemirror_mode": {
    "name": "ipython",
    "version": 3
   },
   "file_extension": ".py",
   "mimetype": "text/x-python",
   "name": "python",
   "nbconvert_exporter": "python",
   "pygments_lexer": "ipython3",
   "version": "3.11.7"
  }
 },
 "nbformat": 4,
 "nbformat_minor": 2
}
