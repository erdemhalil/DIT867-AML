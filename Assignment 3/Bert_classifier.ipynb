{
 "cells": [
  {
   "cell_type": "code",
   "execution_count": 1,
   "metadata": {
    "ExecuteTime": {
     "end_time": "2024-02-18T15:23:34.927401Z",
     "start_time": "2024-02-18T15:23:30.256924Z"
    },
    "execution": {
     "iopub.execute_input": "2021-12-22T21:15:17.791721Z",
     "iopub.status.busy": "2021-12-22T21:15:17.791452Z",
     "iopub.status.idle": "2021-12-22T21:15:17.808398Z",
     "shell.execute_reply": "2021-12-22T21:15:17.807697Z",
     "shell.execute_reply.started": "2021-12-22T21:15:17.791678Z"
    },
    "run_control": {
     "marked": false
    }
   },
   "outputs": [
    {
     "name": "stderr",
     "output_type": "stream",
     "text": [
      "/Users/wilsonlee/anaconda3/lib/python3.11/site-packages/transformers/utils/generic.py:260: UserWarning: torch.utils._pytree._register_pytree_node is deprecated. Please use torch.utils._pytree.register_pytree_node instead.\n",
      "  torch.utils._pytree._register_pytree_node(\n",
      "/var/folders/tp/qq4d22mx3sj_p39f9c6gc83w0000gn/T/ipykernel_72852/1621238366.py:44: MatplotlibDeprecationWarning: The seaborn styles shipped by Matplotlib are deprecated since 3.6, as they no longer correspond to the styles shipped by seaborn. However, they will remain available as 'seaborn-v0_8-<style>'. Alternatively, directly use the seaborn API instead.\n",
      "  plt.style.use(\"seaborn-whitegrid\")\n"
     ]
    },
    {
     "data": {
      "text/plain": [
       "<Figure size 640x480 with 0 Axes>"
      ]
     },
     "metadata": {},
     "output_type": "display_data"
    }
   ],
   "source": [
    "#general purpose packages\n",
    "import numpy as np\n",
    "import pandas as pd\n",
    "import tensorflow as tf\n",
    "import matplotlib.pyplot as plt\n",
    "import seaborn as sns\n",
    "\n",
    "#data processing\n",
    "import re, string\n",
    "import emoji\n",
    "import nltk\n",
    "\n",
    "from sklearn import preprocessing\n",
    "from imblearn.over_sampling import RandomOverSampler\n",
    "from sklearn.model_selection import train_test_split\n",
    "\n",
    "\n",
    "#Naive Bayes\n",
    "from sklearn.feature_extraction.text import CountVectorizer\n",
    "from sklearn.feature_extraction.text import TfidfTransformer\n",
    "from sklearn.naive_bayes import MultinomialNB\n",
    "\n",
    "#transformers\n",
    "from transformers import BertTokenizerFast\n",
    "from transformers import TFBertModel\n",
    "from transformers import RobertaTokenizerFast\n",
    "from transformers import TFRobertaModel\n",
    "\n",
    "#keras\n",
    "import tensorflow as tf\n",
    "from tensorflow import keras\n",
    "\n",
    "\n",
    "#metrics\n",
    "from sklearn.metrics import accuracy_score, f1_score\n",
    "from sklearn.metrics import classification_report, confusion_matrix\n",
    "\n",
    "#set seed for reproducibility\n",
    "seed=42\n",
    "\n",
    "#set style for plots\n",
    "sns.set_style(\"whitegrid\")\n",
    "sns.despine()\n",
    "plt.style.use(\"seaborn-whitegrid\")\n",
    "plt.rc(\"figure\", autolayout=True)\n",
    "plt.rc(\"axes\", labelweight=\"bold\", labelsize=\"large\", titleweight=\"bold\", titlepad=10)\n"
   ]
  },
  {
   "cell_type": "markdown",
   "metadata": {},
   "source": [
    "# Custom functions definition:"
   ]
  },
  {
   "cell_type": "code",
   "execution_count": 2,
   "metadata": {
    "ExecuteTime": {
     "end_time": "2024-02-18T15:23:34.930738Z",
     "start_time": "2024-02-18T15:23:34.928976Z"
    },
    "_kg_hide-input": true,
    "execution": {
     "iopub.execute_input": "2021-12-22T21:15:17.810284Z",
     "iopub.status.busy": "2021-12-22T21:15:17.809938Z",
     "iopub.status.idle": "2021-12-22T21:15:17.817316Z",
     "shell.execute_reply": "2021-12-22T21:15:17.816401Z",
     "shell.execute_reply.started": "2021-12-22T21:15:17.810234Z"
    },
    "run_control": {
     "marked": false
    }
   },
   "outputs": [],
   "source": [
    "def conf_matrix(y, y_pred, title, save_path):\n",
    "    fig, ax =plt.subplots(figsize=(5,5))\n",
    "    labels=['Negative', 'Positive']\n",
    "    ax=sns.heatmap(confusion_matrix(y, y_pred), annot=True, cmap=\"Blues\", fmt='g', cbar=False, annot_kws={\"size\":12})\n",
    "    plt.title(title)\n",
    "    ax.xaxis.set_ticklabels(labels) \n",
    "    ax.yaxis.set_ticklabels(labels)\n",
    "    ax.set_ylabel('Ground Truth Value')\n",
    "    ax.set_xlabel('Predicted Value')\n",
    "    plt.savefig(save_path)\n",
    "    "
   ]
  },
  {
   "cell_type": "markdown",
   "metadata": {},
   "source": [
    "# Loading the data"
   ]
  },
  {
   "cell_type": "code",
   "execution_count": 3,
   "metadata": {
    "ExecuteTime": {
     "end_time": "2024-02-18T15:23:35.006023Z",
     "start_time": "2024-02-18T15:23:34.931781Z"
    },
    "execution": {
     "iopub.execute_input": "2021-12-22T21:15:17.819093Z",
     "iopub.status.busy": "2021-12-22T21:15:17.818782Z",
     "iopub.status.idle": "2021-12-22T21:15:17.964962Z",
     "shell.execute_reply": "2021-12-22T21:15:17.964233Z",
     "shell.execute_reply.started": "2021-12-22T21:15:17.819059Z"
    },
    "run_control": {
     "marked": false
    }
   },
   "outputs": [],
   "source": [
    "# Loading the data\n",
    "df = pd.read_csv('a3_train.csv', header=None)\n",
    "df.columns = ['Sentiment','OriginalTweet']\n",
    "df_test = pd.read_csv('a3_test.tsv',sep='\\t', header=None)\n",
    "df_test.columns = ['Sentiment','OriginalTweet']\n"
   ]
  },
  {
   "cell_type": "code",
   "execution_count": 4,
   "metadata": {
    "ExecuteTime": {
     "end_time": "2024-02-18T15:23:35.011956Z",
     "start_time": "2024-02-18T15:23:35.006823Z"
    },
    "execution": {
     "iopub.execute_input": "2021-12-22T21:15:17.967557Z",
     "iopub.status.busy": "2021-12-22T21:15:17.967262Z",
     "iopub.status.idle": "2021-12-22T21:15:17.979179Z",
     "shell.execute_reply": "2021-12-22T21:15:17.978344Z",
     "shell.execute_reply.started": "2021-12-22T21:15:17.967519Z"
    },
    "run_control": {
     "marked": false
    }
   },
   "outputs": [
    {
     "data": {
      "text/html": [
       "<div>\n",
       "<style scoped>\n",
       "    .dataframe tbody tr th:only-of-type {\n",
       "        vertical-align: middle;\n",
       "    }\n",
       "\n",
       "    .dataframe tbody tr th {\n",
       "        vertical-align: top;\n",
       "    }\n",
       "\n",
       "    .dataframe thead th {\n",
       "        text-align: right;\n",
       "    }\n",
       "</style>\n",
       "<table border=\"1\" class=\"dataframe\">\n",
       "  <thead>\n",
       "    <tr style=\"text-align: right;\">\n",
       "      <th></th>\n",
       "      <th>Sentiment</th>\n",
       "      <th>OriginalTweet</th>\n",
       "    </tr>\n",
       "  </thead>\n",
       "  <tbody>\n",
       "    <tr>\n",
       "      <th>0</th>\n",
       "      <td>1</td>\n",
       "      <td>I'll only consume if I know what's inside it....</td>\n",
       "    </tr>\n",
       "    <tr>\n",
       "      <th>1</th>\n",
       "      <td>0</td>\n",
       "      <td>It is easier to fool a million people than it...</td>\n",
       "    </tr>\n",
       "    <tr>\n",
       "      <th>2</th>\n",
       "      <td>0</td>\n",
       "      <td>NATURAL IMMUNITY  protected us since evolutio...</td>\n",
       "    </tr>\n",
       "    <tr>\n",
       "      <th>3</th>\n",
       "      <td>1</td>\n",
       "      <td>NATURAL IMMUNITY  protected us since evolutio...</td>\n",
       "    </tr>\n",
       "    <tr>\n",
       "      <th>4</th>\n",
       "      <td>0</td>\n",
       "      <td>Proud to have resisted. Proud of my husband, ...</td>\n",
       "    </tr>\n",
       "  </tbody>\n",
       "</table>\n",
       "</div>"
      ],
      "text/plain": [
       "   Sentiment                                      OriginalTweet\n",
       "0          1   I'll only consume if I know what's inside it....\n",
       "1          0   It is easier to fool a million people than it...\n",
       "2          0   NATURAL IMMUNITY  protected us since evolutio...\n",
       "3          1   NATURAL IMMUNITY  protected us since evolutio...\n",
       "4          0   Proud to have resisted. Proud of my husband, ..."
      ]
     },
     "execution_count": 4,
     "metadata": {},
     "output_type": "execute_result"
    }
   ],
   "source": [
    "df.head()"
   ]
  },
  {
   "cell_type": "code",
   "execution_count": 5,
   "metadata": {
    "ExecuteTime": {
     "end_time": "2024-02-18T15:23:35.018616Z",
     "start_time": "2024-02-18T15:23:35.012648Z"
    },
    "execution": {
     "iopub.execute_input": "2021-12-22T21:15:17.981042Z",
     "iopub.status.busy": "2021-12-22T21:15:17.980745Z",
     "iopub.status.idle": "2021-12-22T21:15:18.011269Z",
     "shell.execute_reply": "2021-12-22T21:15:18.010543Z",
     "shell.execute_reply.started": "2021-12-22T21:15:17.981005Z"
    },
    "run_control": {
     "marked": false
    }
   },
   "outputs": [
    {
     "name": "stdout",
     "output_type": "stream",
     "text": [
      "<class 'pandas.core.frame.DataFrame'>\n",
      "RangeIndex: 48510 entries, 0 to 48509\n",
      "Data columns (total 2 columns):\n",
      " #   Column         Non-Null Count  Dtype \n",
      "---  ------         --------------  ----- \n",
      " 0   Sentiment      48510 non-null  int64 \n",
      " 1   OriginalTweet  48510 non-null  object\n",
      "dtypes: int64(1), object(1)\n",
      "memory usage: 758.1+ KB\n"
     ]
    }
   ],
   "source": [
    "df.info()"
   ]
  },
  {
   "cell_type": "markdown",
   "metadata": {},
   "source": [
    "We convert the date column 'TweetAt' to pandas datetime format to improve its usability in the further analysis."
   ]
  },
  {
   "cell_type": "markdown",
   "metadata": {},
   "source": [
    "## Duplicate tweets?"
   ]
  },
  {
   "cell_type": "code",
   "execution_count": 6,
   "metadata": {
    "ExecuteTime": {
     "end_time": "2024-02-18T15:23:35.028777Z",
     "start_time": "2024-02-18T15:23:35.019253Z"
    },
    "execution": {
     "iopub.execute_input": "2021-12-22T21:15:18.027027Z",
     "iopub.status.busy": "2021-12-22T21:15:18.026722Z",
     "iopub.status.idle": "2021-12-22T21:15:18.067792Z",
     "shell.execute_reply": "2021-12-22T21:15:18.067127Z",
     "shell.execute_reply.started": "2021-12-22T21:15:18.026991Z"
    },
    "run_control": {
     "marked": false
    }
   },
   "outputs": [],
   "source": [
    "df.drop_duplicates(subset='OriginalTweet',inplace=True)\n"
   ]
  },
  {
   "cell_type": "code",
   "execution_count": 7,
   "metadata": {
    "ExecuteTime": {
     "end_time": "2024-02-18T15:23:35.034039Z",
     "start_time": "2024-02-18T15:23:35.029471Z"
    },
    "execution": {
     "iopub.execute_input": "2021-12-22T21:15:18.069285Z",
     "iopub.status.busy": "2021-12-22T21:15:18.069027Z",
     "iopub.status.idle": "2021-12-22T21:15:18.094153Z",
     "shell.execute_reply": "2021-12-22T21:15:18.092972Z",
     "shell.execute_reply.started": "2021-12-22T21:15:18.069251Z"
    },
    "run_control": {
     "marked": false
    }
   },
   "outputs": [
    {
     "name": "stdout",
     "output_type": "stream",
     "text": [
      "<class 'pandas.core.frame.DataFrame'>\n",
      "Index: 48504 entries, 0 to 48509\n",
      "Data columns (total 2 columns):\n",
      " #   Column         Non-Null Count  Dtype \n",
      "---  ------         --------------  ----- \n",
      " 0   Sentiment      48504 non-null  int64 \n",
      " 1   OriginalTweet  48504 non-null  object\n",
      "dtypes: int64(1), object(1)\n",
      "memory usage: 1.1+ MB\n"
     ]
    }
   ],
   "source": [
    "df.info()"
   ]
  },
  {
   "cell_type": "markdown",
   "metadata": {},
   "source": [
    "# Deep Cleaning"
   ]
  },
  {
   "cell_type": "code",
   "execution_count": 8,
   "metadata": {
    "ExecuteTime": {
     "end_time": "2024-02-18T15:23:35.038842Z",
     "start_time": "2024-02-18T15:23:35.034687Z"
    },
    "execution": {
     "iopub.execute_input": "2021-12-22T21:15:19.687746Z",
     "iopub.status.busy": "2021-12-22T21:15:19.687068Z",
     "iopub.status.idle": "2021-12-22T21:15:19.698296Z",
     "shell.execute_reply": "2021-12-22T21:15:19.697572Z",
     "shell.execute_reply.started": "2021-12-22T21:15:19.687704Z"
    },
    "run_control": {
     "marked": false
    }
   },
   "outputs": [],
   "source": [
    "##CUSTOM DEFINED FUNCTIONS TO CLEAN THE TWEETS\n",
    "\n",
    "#Clean emojis from text\n",
    "def strip_emoji(text):\n",
    "    # 定义一个正则表达式，匹配常见的emoji字符\n",
    "    emoji_pattern = re.compile(\"[\"\n",
    "                           u\"\\U0001F600-\\U0001F64F\"  # emoticons\n",
    "                           u\"\\U0001F300-\\U0001F5FF\"  # symbols & pictographs\n",
    "                           u\"\\U0001F680-\\U0001F6FF\"  # transport & map symbols\n",
    "                           u\"\\U0001F1E0-\\U0001F1FF\"  # flags (iOS)\n",
    "                           u\"\\U00002702-\\U000027B0\"\n",
    "                           u\"\\U000024C2-\\U0001F251\"\n",
    "                           \"]+\", flags=re.UNICODE)\n",
    "    return emoji_pattern.sub(r'', text) #remove emoji\n",
    "\n",
    "#Remove punctuations, links, mentions and \\r\\n new line characters\n",
    "def strip_all_entities(text): \n",
    "    text = text.replace('\\r', '').replace('\\n', ' ').replace('\\n', ' ').lower() #remove \\n and \\r and lowercase\n",
    "    text = re.sub(r\"(?:\\@|https?\\://)\\S+\", \"\", text) #remove links and mentions\n",
    "    text = re.sub(r'[^\\x00-\\x7f]',r'', text) #remove non utf8/ascii characters such as '\\x9a\\x91\\x97\\x9a\\x97'\n",
    "    banned_list= string.punctuation + 'Ã'+'±'+'ã'+'¼'+'â'+'»'+'§'\n",
    "    table = str.maketrans('', '', banned_list)\n",
    "    text = text.translate(table)\n",
    "    return text\n",
    "\n",
    "#clean hashtags at the end of the sentence, and keep those in the middle of the sentence by removing just the # symbol\n",
    "def clean_hashtags(tweet):\n",
    "    new_tweet = \" \".join(word.strip() for word in re.split('#(?!(?:hashtag)\\b)[\\w-]+(?=(?:\\s+#[\\w-]+)*\\s*$)', tweet)) #remove last hashtags\n",
    "    new_tweet2 = \" \".join(word.strip() for word in re.split('#|_', new_tweet)) #remove hashtags symbol from words in the middle of the sentence\n",
    "    return new_tweet2\n",
    "\n",
    "#Filter special characters such as & and $ present in some words\n",
    "def filter_chars(a):\n",
    "    sent = []\n",
    "    for word in a.split(' '):\n",
    "        if ('$' in word) | ('&' in word):\n",
    "            sent.append('')\n",
    "        else:\n",
    "            sent.append(word)\n",
    "    return ' '.join(sent)\n",
    "\n",
    "def remove_mult_spaces(text): # remove multiple spaces\n",
    "    return re.sub(\"\\s\\s+\" , \" \", text)\n"
   ]
  },
  {
   "cell_type": "code",
   "execution_count": 9,
   "metadata": {
    "ExecuteTime": {
     "end_time": "2024-02-18T15:23:35.586449Z",
     "start_time": "2024-02-18T15:23:35.041021Z"
    },
    "execution": {
     "iopub.execute_input": "2021-12-22T21:15:19.701235Z",
     "iopub.status.busy": "2021-12-22T21:15:19.701015Z",
     "iopub.status.idle": "2021-12-22T21:16:17.869828Z",
     "shell.execute_reply": "2021-12-22T21:16:17.869039Z",
     "shell.execute_reply.started": "2021-12-22T21:15:19.701201Z"
    },
    "run_control": {
     "marked": false
    }
   },
   "outputs": [],
   "source": [
    "texts_new = []\n",
    "for t in df.OriginalTweet:\n",
    "    texts_new.append(remove_mult_spaces(filter_chars(clean_hashtags(strip_all_entities(strip_emoji(t))))))\n",
    "    "
   ]
  },
  {
   "cell_type": "code",
   "execution_count": 10,
   "metadata": {
    "ExecuteTime": {
     "end_time": "2024-02-18T15:23:35.610567Z",
     "start_time": "2024-02-18T15:23:35.587250Z"
    },
    "execution": {
     "iopub.execute_input": "2021-12-22T21:16:17.871709Z",
     "iopub.status.busy": "2021-12-22T21:16:17.871222Z",
     "iopub.status.idle": "2021-12-22T21:16:23.197999Z",
     "shell.execute_reply": "2021-12-22T21:16:23.197295Z",
     "shell.execute_reply.started": "2021-12-22T21:16:17.871667Z"
    },
    "run_control": {
     "marked": false
    }
   },
   "outputs": [],
   "source": [
    "texts_new_test = []\n",
    "for t in df_test.OriginalTweet:\n",
    "    texts_new_test.append(remove_mult_spaces(filter_chars(clean_hashtags(strip_all_entities(strip_emoji(t))))))\n",
    "    "
   ]
  },
  {
   "cell_type": "markdown",
   "metadata": {},
   "source": [
    "Now we can create a new column, for both train and test sets, to host the cleaned version of the tweets' text."
   ]
  },
  {
   "cell_type": "code",
   "execution_count": 11,
   "metadata": {
    "ExecuteTime": {
     "end_time": "2024-02-18T15:23:35.614739Z",
     "start_time": "2024-02-18T15:23:35.611262Z"
    },
    "execution": {
     "iopub.execute_input": "2021-12-22T21:16:23.199648Z",
     "iopub.status.busy": "2021-12-22T21:16:23.199371Z",
     "iopub.status.idle": "2021-12-22T21:16:23.212118Z",
     "shell.execute_reply": "2021-12-22T21:16:23.211257Z",
     "shell.execute_reply.started": "2021-12-22T21:16:23.199614Z"
    },
    "run_control": {
     "marked": false
    }
   },
   "outputs": [],
   "source": [
    "df['text_clean'] = texts_new\n",
    "df_test['text_clean'] = texts_new_test\n"
   ]
  },
  {
   "cell_type": "markdown",
   "metadata": {},
   "source": [
    "Moreover, we will also create a column to host the lenght of the cleaned text, to check if by cleaning the text we removed too much text or almost entirely the tweet!"
   ]
  },
  {
   "cell_type": "code",
   "execution_count": 12,
   "metadata": {
    "ExecuteTime": {
     "end_time": "2024-02-18T15:23:35.653580Z",
     "start_time": "2024-02-18T15:23:35.615289Z"
    },
    "execution": {
     "iopub.execute_input": "2021-12-22T21:16:23.253023Z",
     "iopub.status.busy": "2021-12-22T21:16:23.252435Z",
     "iopub.status.idle": "2021-12-22T21:16:23.346853Z",
     "shell.execute_reply": "2021-12-22T21:16:23.346251Z",
     "shell.execute_reply.started": "2021-12-22T21:16:23.252986Z"
    },
    "run_control": {
     "marked": false
    }
   },
   "outputs": [],
   "source": [
    "text_len = []\n",
    "for text in df.text_clean:\n",
    "    tweet_len = len(text.split())\n",
    "    text_len.append(tweet_len)\n",
    "\n",
    "df['text_len'] = text_len\n",
    "    "
   ]
  },
  {
   "cell_type": "code",
   "execution_count": 13,
   "metadata": {
    "ExecuteTime": {
     "end_time": "2024-02-18T15:23:35.659232Z",
     "start_time": "2024-02-18T15:23:35.654187Z"
    },
    "execution": {
     "iopub.execute_input": "2021-12-22T21:16:23.348129Z",
     "iopub.status.busy": "2021-12-22T21:16:23.347901Z",
     "iopub.status.idle": "2021-12-22T21:16:23.369365Z",
     "shell.execute_reply": "2021-12-22T21:16:23.368729Z",
     "shell.execute_reply.started": "2021-12-22T21:16:23.348096Z"
    },
    "run_control": {
     "marked": false
    }
   },
   "outputs": [],
   "source": [
    "df['text_len'] = text_len"
   ]
  },
  {
   "cell_type": "code",
   "execution_count": 14,
   "metadata": {
    "ExecuteTime": {
     "end_time": "2024-02-18T15:23:35.664151Z",
     "start_time": "2024-02-18T15:23:35.659816Z"
    },
    "execution": {
     "iopub.execute_input": "2021-12-22T21:16:23.371086Z",
     "iopub.status.busy": "2021-12-22T21:16:23.370787Z",
     "iopub.status.idle": "2021-12-22T21:16:23.387455Z",
     "shell.execute_reply": "2021-12-22T21:16:23.386622Z",
     "shell.execute_reply.started": "2021-12-22T21:16:23.371047Z"
    },
    "run_control": {
     "marked": false
    }
   },
   "outputs": [],
   "source": [
    "text_len_test = []\n",
    "for text in df_test.text_clean:\n",
    "    tweet_len = len(text.split())\n",
    "    text_len_test.append(tweet_len)\n",
    "    \n",
    "df_test['text_len'] = text_len_test\n",
    "    "
   ]
  },
  {
   "cell_type": "code",
   "execution_count": 15,
   "metadata": {
    "ExecuteTime": {
     "end_time": "2024-02-18T15:23:35.666035Z",
     "start_time": "2024-02-18T15:23:35.664626Z"
    },
    "execution": {
     "iopub.execute_input": "2021-12-22T21:16:23.389440Z",
     "iopub.status.busy": "2021-12-22T21:16:23.388853Z",
     "iopub.status.idle": "2021-12-22T21:16:23.398823Z",
     "shell.execute_reply": "2021-12-22T21:16:23.398101Z",
     "shell.execute_reply.started": "2021-12-22T21:16:23.389402Z"
    },
    "run_control": {
     "marked": false
    }
   },
   "outputs": [],
   "source": [
    "df_test['text_len'] = text_len_test"
   ]
  },
  {
   "cell_type": "code",
   "execution_count": 16,
   "metadata": {
    "ExecuteTime": {
     "end_time": "2024-02-18T15:23:35.981382Z",
     "start_time": "2024-02-18T15:23:35.666610Z"
    },
    "_kg_hide-input": true,
    "execution": {
     "iopub.execute_input": "2021-12-22T21:16:23.400721Z",
     "iopub.status.busy": "2021-12-22T21:16:23.400127Z",
     "iopub.status.idle": "2021-12-22T21:16:23.670878Z",
     "shell.execute_reply": "2021-12-22T21:16:23.670210Z",
     "shell.execute_reply.started": "2021-12-22T21:16:23.400676Z"
    },
    "run_control": {
     "marked": false
    }
   },
   "outputs": [
    {
     "data": {
      "image/png": "[encoded data removed]",
      "text/plain": [
       "<Figure size 700x500 with 1 Axes>"
      ]
     },
     "metadata": {},
     "output_type": "display_data"
    }
   ],
   "source": [
    "plt.figure(figsize=(7,5))\n",
    "ax = sns.countplot(x='text_len', data=df[df['text_len']<10], palette='mako')\n",
    "plt.title('Training tweets with less than 10 words')\n",
    "plt.yticks([])\n",
    "ax.bar_label(ax.containers[0])\n",
    "plt.ylabel('count')\n",
    "plt.xlabel('')\n",
    "plt.savefig('Training_less_10.pdf')\n"
   ]
  },
  {
   "cell_type": "code",
   "execution_count": 17,
   "metadata": {
    "ExecuteTime": {
     "end_time": "2024-02-18T15:23:36.121726Z",
     "start_time": "2024-02-18T15:23:35.982169Z"
    },
    "_kg_hide-input": true,
    "execution": {
     "iopub.execute_input": "2021-12-22T21:16:23.672665Z",
     "iopub.status.busy": "2021-12-22T21:16:23.672187Z",
     "iopub.status.idle": "2021-12-22T21:16:23.926009Z",
     "shell.execute_reply": "2021-12-22T21:16:23.925218Z",
     "shell.execute_reply.started": "2021-12-22T21:16:23.672624Z"
    },
    "run_control": {
     "marked": false
    }
   },
   "outputs": [
    {
     "data": {
      "image/png": "[encoded data removed]",
      "text/plain": [
       "<Figure size 700x500 with 1 Axes>"
      ]
     },
     "metadata": {},
     "output_type": "display_data"
    }
   ],
   "source": [
    "plt.figure(figsize=(7,5))\n",
    "ax = sns.countplot(x='text_len', data=df_test[df_test['text_len']<10], palette='mako')\n",
    "plt.title('Test tweets with less than 10 words')\n",
    "plt.yticks([])\n",
    "ax.bar_label(ax.containers[0])\n",
    "plt.ylabel('count')\n",
    "plt.xlabel('')\n",
    "plt.savefig('Test_less_10.pdf')\n"
   ]
  },
  {
   "cell_type": "markdown",
   "metadata": {},
   "source": [
    "As we can see, there are lots of cleaned tweets with 0 words: this is due to the cleaning performed before. This means that some tweets contained only mentions, hashtags and links, which have been removed. We will drop these empty tweets and also those with less than 5 words."
   ]
  },
  {
   "cell_type": "code",
   "execution_count": 18,
   "metadata": {
    "ExecuteTime": {
     "end_time": "2024-02-18T15:23:36.123967Z",
     "start_time": "2024-02-18T15:23:36.122406Z"
    },
    "execution": {
     "iopub.execute_input": "2021-12-22T21:16:23.927515Z",
     "iopub.status.busy": "2021-12-22T21:16:23.927254Z",
     "iopub.status.idle": "2021-12-22T21:16:23.935987Z",
     "shell.execute_reply": "2021-12-22T21:16:23.935269Z",
     "shell.execute_reply.started": "2021-12-22T21:16:23.927480Z"
    },
    "run_control": {
     "marked": false
    }
   },
   "outputs": [
    {
     "name": "stdout",
     "output_type": "stream",
     "text": [
      " DF SHAPE: (48504, 4)\n",
      " DF TEST SHAPE: (2039, 4)\n"
     ]
    }
   ],
   "source": [
    "print(f\" DF SHAPE: {df.shape}\")\n",
    "print(f\" DF TEST SHAPE: {df_test.shape}\")"
   ]
  },
  {
   "cell_type": "code",
   "execution_count": 19,
   "metadata": {
    "ExecuteTime": {
     "end_time": "2024-02-18T15:23:36.128583Z",
     "start_time": "2024-02-18T15:23:36.124504Z"
    },
    "execution": {
     "iopub.execute_input": "2021-12-22T21:16:23.937742Z",
     "iopub.status.busy": "2021-12-22T21:16:23.937463Z",
     "iopub.status.idle": "2021-12-22T21:16:23.947934Z",
     "shell.execute_reply": "2021-12-22T21:16:23.947188Z",
     "shell.execute_reply.started": "2021-12-22T21:16:23.937695Z"
    },
    "run_control": {
     "marked": false
    }
   },
   "outputs": [],
   "source": [
    "df = df[df['text_len'] > 4]"
   ]
  },
  {
   "cell_type": "code",
   "execution_count": 20,
   "metadata": {
    "ExecuteTime": {
     "end_time": "2024-02-18T15:23:36.131305Z",
     "start_time": "2024-02-18T15:23:36.129240Z"
    },
    "execution": {
     "iopub.execute_input": "2021-12-22T21:16:23.949722Z",
     "iopub.status.busy": "2021-12-22T21:16:23.949457Z",
     "iopub.status.idle": "2021-12-22T21:16:23.956516Z",
     "shell.execute_reply": "2021-12-22T21:16:23.955817Z",
     "shell.execute_reply.started": "2021-12-22T21:16:23.949679Z"
    },
    "run_control": {
     "marked": false
    }
   },
   "outputs": [],
   "source": [
    "df_test = df_test[df_test['text_len'] > 4]"
   ]
  },
  {
   "cell_type": "code",
   "execution_count": 21,
   "metadata": {
    "ExecuteTime": {
     "end_time": "2024-02-18T15:23:36.133314Z",
     "start_time": "2024-02-18T15:23:36.131876Z"
    },
    "execution": {
     "iopub.execute_input": "2021-12-22T21:16:23.958147Z",
     "iopub.status.busy": "2021-12-22T21:16:23.957889Z",
     "iopub.status.idle": "2021-12-22T21:16:23.965132Z",
     "shell.execute_reply": "2021-12-22T21:16:23.964401Z",
     "shell.execute_reply.started": "2021-12-22T21:16:23.958113Z"
    },
    "run_control": {
     "marked": false
    }
   },
   "outputs": [
    {
     "name": "stdout",
     "output_type": "stream",
     "text": [
      " DF SHAPE: (46901, 4)\n",
      " DF TEST SHAPE: (1956, 4)\n"
     ]
    }
   ],
   "source": [
    "print(f\" DF SHAPE: {df.shape}\")\n",
    "print(f\" DF TEST SHAPE: {df_test.shape}\")"
   ]
  },
  {
   "cell_type": "markdown",
   "metadata": {},
   "source": [
    "## Training data deeper cleaning"
   ]
  },
  {
   "cell_type": "markdown",
   "metadata": {},
   "source": [
    "Let's perform a further cleaning checking the tokenizer version of the sentences."
   ]
  },
  {
   "cell_type": "markdown",
   "metadata": {},
   "source": [
    "First, we import the BERT tokenizer."
   ]
  },
  {
   "cell_type": "code",
   "execution_count": 22,
   "metadata": {
    "ExecuteTime": {
     "end_time": "2024-02-18T15:23:39.127632Z",
     "start_time": "2024-02-18T15:23:36.133844Z"
    },
    "_kg_hide-output": true,
    "execution": {
     "iopub.execute_input": "2021-12-22T21:16:23.966874Z",
     "iopub.status.busy": "2021-12-22T21:16:23.966349Z",
     "iopub.status.idle": "2021-12-22T21:16:30.505565Z",
     "shell.execute_reply": "2021-12-22T21:16:30.504847Z",
     "shell.execute_reply.started": "2021-12-22T21:16:23.966837Z"
    },
    "run_control": {
     "marked": false
    }
   },
   "outputs": [],
   "source": [
    "# Training data deeper cleaning\n",
    "tokenizer = BertTokenizerFast.from_pretrained('bert-base-uncased')\n",
    "\n",
    "token_lens = []\n",
    "\n",
    "for txt in df['text_clean'].values:\n",
    "    tokens = tokenizer.encode(txt, max_length=512, truncation=True)\n",
    "    token_lens.append(len(tokens))\n",
    "    \n",
    "max_len=np.max(token_lens)\n"
   ]
  },
  {
   "cell_type": "code",
   "execution_count": 23,
   "metadata": {
    "ExecuteTime": {
     "end_time": "2024-02-18T15:23:39.129893Z",
     "start_time": "2024-02-18T15:23:39.128481Z"
    },
    "execution": {
     "iopub.execute_input": "2021-12-22T21:16:38.614497Z",
     "iopub.status.busy": "2021-12-22T21:16:38.612489Z",
     "iopub.status.idle": "2021-12-22T21:16:38.622543Z",
     "shell.execute_reply": "2021-12-22T21:16:38.621788Z",
     "shell.execute_reply.started": "2021-12-22T21:16:38.614458Z"
    },
    "run_control": {
     "marked": false
    }
   },
   "outputs": [
    {
     "name": "stdout",
     "output_type": "stream",
     "text": [
      "MAX TOKENIZED SENTENCE LENGTH: 512\n"
     ]
    }
   ],
   "source": [
    "print(f\"MAX TOKENIZED SENTENCE LENGTH: {max_len}\")"
   ]
  },
  {
   "cell_type": "code",
   "execution_count": 24,
   "metadata": {
    "ExecuteTime": {
     "end_time": "2024-02-18T15:23:39.135669Z",
     "start_time": "2024-02-18T15:23:39.130482Z"
    },
    "execution": {
     "iopub.execute_input": "2021-12-22T21:16:45.920514Z",
     "iopub.status.busy": "2021-12-22T21:16:45.920127Z",
     "iopub.status.idle": "2021-12-22T21:16:45.942482Z",
     "shell.execute_reply": "2021-12-22T21:16:45.941845Z",
     "shell.execute_reply.started": "2021-12-22T21:16:45.920472Z"
    },
    "run_control": {
     "marked": false
    }
   },
   "outputs": [],
   "source": [
    "df['token_lens'] = token_lens\n"
   ]
  },
  {
   "cell_type": "code",
   "execution_count": 25,
   "metadata": {
    "ExecuteTime": {
     "end_time": "2024-02-18T15:23:39.143648Z",
     "start_time": "2024-02-18T15:23:39.136250Z"
    },
    "execution": {
     "iopub.execute_input": "2021-12-22T21:16:45.943812Z",
     "iopub.status.busy": "2021-12-22T21:16:45.943569Z",
     "iopub.status.idle": "2021-12-22T21:16:45.966583Z",
     "shell.execute_reply": "2021-12-22T21:16:45.965943Z",
     "shell.execute_reply.started": "2021-12-22T21:16:45.943779Z"
    },
    "run_control": {
     "marked": false
    }
   },
   "outputs": [
    {
     "data": {
      "text/html": [
       "<div>\n",
       "<style scoped>\n",
       "    .dataframe tbody tr th:only-of-type {\n",
       "        vertical-align: middle;\n",
       "    }\n",
       "\n",
       "    .dataframe tbody tr th {\n",
       "        vertical-align: top;\n",
       "    }\n",
       "\n",
       "    .dataframe thead th {\n",
       "        text-align: right;\n",
       "    }\n",
       "</style>\n",
       "<table border=\"1\" class=\"dataframe\">\n",
       "  <thead>\n",
       "    <tr style=\"text-align: right;\">\n",
       "      <th></th>\n",
       "      <th>Sentiment</th>\n",
       "      <th>OriginalTweet</th>\n",
       "      <th>text_clean</th>\n",
       "      <th>text_len</th>\n",
       "      <th>token_lens</th>\n",
       "    </tr>\n",
       "  </thead>\n",
       "  <tbody>\n",
       "    <tr>\n",
       "      <th>24013</th>\n",
       "      <td>0</td>\n",
       "      <td>Just passing this on I have carefully studied ...</td>\n",
       "      <td>just passing this on i have carefully studied ...</td>\n",
       "      <td>1230</td>\n",
       "      <td>512</td>\n",
       "    </tr>\n",
       "    <tr>\n",
       "      <th>21169</th>\n",
       "      <td>0</td>\n",
       "      <td>Iris Figuora: I listed all the ingredients of ...</td>\n",
       "      <td>iris figuora i listed all the ingredients of t...</td>\n",
       "      <td>502</td>\n",
       "      <td>512</td>\n",
       "    </tr>\n",
       "    <tr>\n",
       "      <th>10018</th>\n",
       "      <td>1</td>\n",
       "      <td>Holy shit, the comments are full of anti-vaxxe...</td>\n",
       "      <td>holy shit the comments are full of antivaxxers...</td>\n",
       "      <td>517</td>\n",
       "      <td>512</td>\n",
       "    </tr>\n",
       "    <tr>\n",
       "      <th>19483</th>\n",
       "      <td>1</td>\n",
       "      <td>I've taken the Vaccine three times in the last...</td>\n",
       "      <td>ive taken the vaccine three times in the last ...</td>\n",
       "      <td>568</td>\n",
       "      <td>512</td>\n",
       "    </tr>\n",
       "    <tr>\n",
       "      <th>35656</th>\n",
       "      <td>0</td>\n",
       "      <td>The thing I am going to tell you is weird but ...</td>\n",
       "      <td>the thing i am going to tell you is weird but ...</td>\n",
       "      <td>1121</td>\n",
       "      <td>512</td>\n",
       "    </tr>\n",
       "  </tbody>\n",
       "</table>\n",
       "</div>"
      ],
      "text/plain": [
       "       Sentiment                                      OriginalTweet  \\\n",
       "24013          0  Just passing this on I have carefully studied ...   \n",
       "21169          0  Iris Figuora: I listed all the ingredients of ...   \n",
       "10018          1  Holy shit, the comments are full of anti-vaxxe...   \n",
       "19483          1  I've taken the Vaccine three times in the last...   \n",
       "35656          0  The thing I am going to tell you is weird but ...   \n",
       "\n",
       "                                              text_clean  text_len  token_lens  \n",
       "24013  just passing this on i have carefully studied ...      1230         512  \n",
       "21169  iris figuora i listed all the ingredients of t...       502         512  \n",
       "10018  holy shit the comments are full of antivaxxers...       517         512  \n",
       "19483  ive taken the vaccine three times in the last ...       568         512  \n",
       "35656  the thing i am going to tell you is weird but ...      1121         512  "
      ]
     },
     "execution_count": 25,
     "metadata": {},
     "output_type": "execute_result"
    }
   ],
   "source": [
    "df = df.sort_values(by='token_lens', ascending=False)\n",
    "df.head()"
   ]
  },
  {
   "cell_type": "code",
   "execution_count": 26,
   "metadata": {
    "ExecuteTime": {
     "end_time": "2024-02-18T15:23:39.155290Z",
     "start_time": "2024-02-18T15:23:39.144284Z"
    },
    "execution": {
     "iopub.execute_input": "2021-12-22T21:16:45.981550Z",
     "iopub.status.busy": "2021-12-22T21:16:45.981284Z",
     "iopub.status.idle": "2021-12-22T21:16:45.995008Z",
     "shell.execute_reply": "2021-12-22T21:16:45.994358Z",
     "shell.execute_reply.started": "2021-12-22T21:16:45.981515Z"
    },
    "run_control": {
     "marked": false
    }
   },
   "outputs": [],
   "source": [
    "df['token_lens'] = token_lens\n",
    "df = df.sample(frac=1).reset_index(drop=True)\n"
   ]
  },
  {
   "cell_type": "markdown",
   "metadata": {},
   "source": [
    "## Test data deeper cleaning"
   ]
  },
  {
   "cell_type": "code",
   "execution_count": 27,
   "metadata": {
    "ExecuteTime": {
     "end_time": "2024-02-18T15:23:39.264658Z",
     "start_time": "2024-02-18T15:23:39.158619Z"
    },
    "execution": {
     "iopub.execute_input": "2021-12-22T21:16:45.996503Z",
     "iopub.status.busy": "2021-12-22T21:16:45.996245Z",
     "iopub.status.idle": "2021-12-22T21:16:46.749676Z",
     "shell.execute_reply": "2021-12-22T21:16:46.748944Z",
     "shell.execute_reply.started": "2021-12-22T21:16:45.996467Z"
    },
    "run_control": {
     "marked": false
    }
   },
   "outputs": [],
   "source": [
    "# Test data deeper cleaning\n",
    "token_lens_test = []\n",
    "\n",
    "for txt in df_test['text_clean'].values:\n",
    "    tokens = tokenizer.encode(txt, max_length=512, truncation=True)\n",
    "    token_lens_test.append(len(tokens))\n",
    "    \n",
    "max_len=np.max(token_lens_test)\n",
    "\n",
    "df_test['token_lens'] = token_lens_test\n",
    "df_test = df_test.sample(frac=1).reset_index(drop=True)\n",
    "\n"
   ]
  },
  {
   "cell_type": "code",
   "execution_count": 28,
   "metadata": {
    "ExecuteTime": {
     "end_time": "2024-02-18T15:23:39.267017Z",
     "start_time": "2024-02-18T15:23:39.265398Z"
    },
    "execution": {
     "iopub.execute_input": "2021-12-22T21:16:46.751349Z",
     "iopub.status.busy": "2021-12-22T21:16:46.751070Z",
     "iopub.status.idle": "2021-12-22T21:16:46.756497Z",
     "shell.execute_reply": "2021-12-22T21:16:46.755793Z",
     "shell.execute_reply.started": "2021-12-22T21:16:46.751312Z"
    },
    "run_control": {
     "marked": false
    }
   },
   "outputs": [
    {
     "name": "stdout",
     "output_type": "stream",
     "text": [
      "MAX TOKENIZED SENTENCE LENGTH: 322\n"
     ]
    }
   ],
   "source": [
    "print(f\"MAX TOKENIZED SENTENCE LENGTH: {max_len}\")"
   ]
  },
  {
   "cell_type": "code",
   "execution_count": 29,
   "metadata": {
    "ExecuteTime": {
     "end_time": "2024-02-18T15:23:39.269342Z",
     "start_time": "2024-02-18T15:23:39.267730Z"
    },
    "execution": {
     "iopub.execute_input": "2021-12-22T21:16:47.502050Z",
     "iopub.status.busy": "2021-12-22T21:16:47.501809Z",
     "iopub.status.idle": "2021-12-22T21:16:47.508688Z",
     "shell.execute_reply": "2021-12-22T21:16:47.507660Z",
     "shell.execute_reply.started": "2021-12-22T21:16:47.502016Z"
    },
    "run_control": {
     "marked": false
    }
   },
   "outputs": [],
   "source": [
    "df_test['token_lens'] = token_lens_test"
   ]
  },
  {
   "cell_type": "code",
   "execution_count": 30,
   "metadata": {
    "ExecuteTime": {
     "end_time": "2024-02-18T15:23:39.273191Z",
     "start_time": "2024-02-18T15:23:39.269849Z"
    },
    "execution": {
     "iopub.execute_input": "2021-12-22T21:16:47.510349Z",
     "iopub.status.busy": "2021-12-22T21:16:47.509929Z",
     "iopub.status.idle": "2021-12-22T21:16:47.527481Z",
     "shell.execute_reply": "2021-12-22T21:16:47.526777Z",
     "shell.execute_reply.started": "2021-12-22T21:16:47.510311Z"
    },
    "run_control": {
     "marked": false
    }
   },
   "outputs": [
    {
     "data": {
      "text/html": [
       "<div>\n",
       "<style scoped>\n",
       "    .dataframe tbody tr th:only-of-type {\n",
       "        vertical-align: middle;\n",
       "    }\n",
       "\n",
       "    .dataframe tbody tr th {\n",
       "        vertical-align: top;\n",
       "    }\n",
       "\n",
       "    .dataframe thead th {\n",
       "        text-align: right;\n",
       "    }\n",
       "</style>\n",
       "<table border=\"1\" class=\"dataframe\">\n",
       "  <thead>\n",
       "    <tr style=\"text-align: right;\">\n",
       "      <th></th>\n",
       "      <th>Sentiment</th>\n",
       "      <th>OriginalTweet</th>\n",
       "      <th>text_clean</th>\n",
       "      <th>text_len</th>\n",
       "      <th>token_lens</th>\n",
       "    </tr>\n",
       "  </thead>\n",
       "  <tbody>\n",
       "    <tr>\n",
       "      <th>1266</th>\n",
       "      <td>1</td>\n",
       "      <td>Hope he got the vaccine. Either way thank you ...</td>\n",
       "      <td>hope he got the vaccine either way thank you t...</td>\n",
       "      <td>14</td>\n",
       "      <td>322</td>\n",
       "    </tr>\n",
       "    <tr>\n",
       "      <th>1044</th>\n",
       "      <td>0</td>\n",
       "      <td>NEVER would I put that Fauci sauce in my arm l...</td>\n",
       "      <td>never would i put that fauci sauce in my arm l...</td>\n",
       "      <td>14</td>\n",
       "      <td>248</td>\n",
       "    </tr>\n",
       "    <tr>\n",
       "      <th>707</th>\n",
       "      <td>0</td>\n",
       "      <td>I'll take my chances without the vaccine thank...</td>\n",
       "      <td>ill take my chances without the vaccine thank you</td>\n",
       "      <td>9</td>\n",
       "      <td>185</td>\n",
       "    </tr>\n",
       "    <tr>\n",
       "      <th>1620</th>\n",
       "      <td>0</td>\n",
       "      <td>I will never take a coronavirus vaccine, there...</td>\n",
       "      <td>i will never take a coronavirus vaccine theres...</td>\n",
       "      <td>18</td>\n",
       "      <td>175</td>\n",
       "    </tr>\n",
       "    <tr>\n",
       "      <th>1876</th>\n",
       "      <td>0</td>\n",
       "      <td>I love how people use “anti vaxers” as a way t...</td>\n",
       "      <td>i love how people use anti vaxers as a way to ...</td>\n",
       "      <td>30</td>\n",
       "      <td>170</td>\n",
       "    </tr>\n",
       "  </tbody>\n",
       "</table>\n",
       "</div>"
      ],
      "text/plain": [
       "      Sentiment                                      OriginalTweet  \\\n",
       "1266          1  Hope he got the vaccine. Either way thank you ...   \n",
       "1044          0  NEVER would I put that Fauci sauce in my arm l...   \n",
       "707           0  I'll take my chances without the vaccine thank...   \n",
       "1620          0  I will never take a coronavirus vaccine, there...   \n",
       "1876          0  I love how people use “anti vaxers” as a way t...   \n",
       "\n",
       "                                             text_clean  text_len  token_lens  \n",
       "1266  hope he got the vaccine either way thank you t...        14         322  \n",
       "1044  never would i put that fauci sauce in my arm l...        14         248  \n",
       "707   ill take my chances without the vaccine thank you         9         185  \n",
       "1620  i will never take a coronavirus vaccine theres...        18         175  \n",
       "1876  i love how people use anti vaxers as a way to ...        30         170  "
      ]
     },
     "execution_count": 30,
     "metadata": {},
     "output_type": "execute_result"
    }
   ],
   "source": [
    "df_test = df_test.sort_values(by='token_lens', ascending=False)\n",
    "df_test.head() "
   ]
  },
  {
   "cell_type": "code",
   "execution_count": 31,
   "metadata": {
    "ExecuteTime": {
     "end_time": "2024-02-18T15:23:39.275528Z",
     "start_time": "2024-02-18T15:23:39.273786Z"
    },
    "execution": {
     "iopub.execute_input": "2021-12-22T21:16:47.541731Z",
     "iopub.status.busy": "2021-12-22T21:16:47.541138Z",
     "iopub.status.idle": "2021-12-22T21:16:47.548553Z",
     "shell.execute_reply": "2021-12-22T21:16:47.547872Z",
     "shell.execute_reply.started": "2021-12-22T21:16:47.541662Z"
    },
    "run_control": {
     "marked": false
    }
   },
   "outputs": [],
   "source": [
    "df_test = df_test.sample(frac=1).reset_index(drop=True)"
   ]
  },
  {
   "cell_type": "markdown",
   "metadata": {},
   "source": [
    "# Sentiment column analysis"
   ]
  },
  {
   "cell_type": "markdown",
   "metadata": {},
   "source": [
    "Now we will look at the target column 'Sentiment'."
   ]
  },
  {
   "cell_type": "code",
   "execution_count": 32,
   "metadata": {
    "ExecuteTime": {
     "end_time": "2024-02-18T15:23:39.278564Z",
     "start_time": "2024-02-18T15:23:39.276089Z"
    },
    "execution": {
     "iopub.execute_input": "2021-12-22T21:16:47.550374Z",
     "iopub.status.busy": "2021-12-22T21:16:47.549868Z",
     "iopub.status.idle": "2021-12-22T21:16:47.564332Z",
     "shell.execute_reply": "2021-12-22T21:16:47.563660Z",
     "shell.execute_reply.started": "2021-12-22T21:16:47.550336Z"
    },
    "run_control": {
     "marked": false
    }
   },
   "outputs": [
    {
     "data": {
      "text/plain": [
       "Sentiment\n",
       "0    23843\n",
       "1    23058\n",
       "Name: count, dtype: int64"
      ]
     },
     "execution_count": 32,
     "metadata": {},
     "output_type": "execute_result"
    }
   ],
   "source": [
    "df['Sentiment'].value_counts()"
   ]
  },
  {
   "cell_type": "markdown",
   "metadata": {},
   "source": [
    "## Train - Validation - Test split"
   ]
  },
  {
   "cell_type": "code",
   "execution_count": 33,
   "metadata": {
    "ExecuteTime": {
     "end_time": "2024-02-18T15:23:39.287318Z",
     "start_time": "2024-02-18T15:23:39.279108Z"
    },
    "execution": {
     "iopub.execute_input": "2021-12-22T21:16:47.713316Z",
     "iopub.status.busy": "2021-12-22T21:16:47.713125Z",
     "iopub.status.idle": "2021-12-22T21:16:47.717547Z",
     "shell.execute_reply": "2021-12-22T21:16:47.716647Z",
     "shell.execute_reply.started": "2021-12-22T21:16:47.713294Z"
    },
    "run_control": {
     "marked": false
    }
   },
   "outputs": [],
   "source": [
    "# Train - Validation - Test split\n",
    "X = df['text_clean'].values\n",
    "y = df['Sentiment'].values\n",
    "\n",
    "X_train, X_valid, y_train, y_valid = train_test_split(X, y, test_size=0.1, stratify=y, random_state=seed)\n",
    "\n",
    "X_test = df_test['text_clean'].values\n",
    "y_test = df_test['Sentiment'].values\n",
    "\n"
   ]
  },
  {
   "cell_type": "markdown",
   "metadata": {},
   "source": [
    "# Baseline model: Naive Bayes Classifier"
   ]
  },
  {
   "cell_type": "markdown",
   "metadata": {
    "execution": {
     "iopub.execute_input": "2021-12-22T19:59:56.682410Z",
     "iopub.status.busy": "2021-12-22T19:59:56.681677Z",
     "iopub.status.idle": "2021-12-22T19:59:56.711837Z",
     "shell.execute_reply": "2021-12-22T19:59:56.710680Z",
     "shell.execute_reply.started": "2021-12-22T19:59:56.682300Z"
    }
   },
   "source": [
    "Before implementing BERT, we will define a simple Naive Bayes baseline model to classify the tweets."
   ]
  },
  {
   "cell_type": "markdown",
   "metadata": {},
   "source": [
    "First we need to tokenize the tweets using CountVectorizer."
   ]
  },
  {
   "cell_type": "code",
   "execution_count": 34,
   "metadata": {
    "ExecuteTime": {
     "end_time": "2024-02-18T15:23:39.650516Z",
     "start_time": "2024-02-18T15:23:39.287918Z"
    },
    "execution": {
     "iopub.execute_input": "2021-12-22T21:16:47.799076Z",
     "iopub.status.busy": "2021-12-22T21:16:47.798820Z",
     "iopub.status.idle": "2021-12-22T21:16:49.887448Z",
     "shell.execute_reply": "2021-12-22T21:16:49.886665Z",
     "shell.execute_reply.started": "2021-12-22T21:16:47.799042Z"
    },
    "run_control": {
     "marked": false
    }
   },
   "outputs": [
    {
     "name": "stdout",
     "output_type": "stream",
     "text": [
      "\tClassification Report for Naive Bayes:\n",
      "\n",
      "               precision    recall  f1-score   support\n",
      "\n",
      "           0       0.82      0.85      0.83       977\n",
      "           1       0.84      0.81      0.83       979\n",
      "\n",
      "    accuracy                           0.83      1956\n",
      "   macro avg       0.83      0.83      0.83      1956\n",
      "weighted avg       0.83      0.83      0.83      1956\n",
      "\n"
     ]
    }
   ],
   "source": [
    "# Baseline model: Naive Bayes Classifier\n",
    "clf = CountVectorizer()\n",
    "X_train_cv =  clf.fit_transform(X_train)\n",
    "X_test_cv = clf.transform(X_test)\n",
    "\n",
    "tf_transformer = TfidfTransformer(use_idf=True).fit(X_train_cv)\n",
    "X_train_tf = tf_transformer.transform(X_train_cv)\n",
    "X_test_tf = tf_transformer.transform(X_test_cv)\n",
    "\n",
    "nb_clf = MultinomialNB()\n",
    "nb_clf.fit(X_train_tf, y_train)\n",
    "nb_pred = nb_clf.predict(X_test_tf)\n",
    "print('\\tClassification Report for Naive Bayes:\\n\\n',classification_report(y_test,nb_pred))\n",
    "\n"
   ]
  },
  {
   "cell_type": "markdown",
   "metadata": {},
   "source": [
    "Then we create the TF-IDF (term-frequency times inverse document-frequency) versions of the tokenized tweets."
   ]
  },
  {
   "cell_type": "code",
   "execution_count": 35,
   "metadata": {
    "ExecuteTime": {
     "end_time": "2024-02-18T15:23:39.716411Z",
     "start_time": "2024-02-18T15:23:39.651208Z"
    },
    "execution": {
     "iopub.execute_input": "2021-12-22T21:16:49.890719Z",
     "iopub.status.busy": "2021-12-22T21:16:49.888669Z",
     "iopub.status.idle": "2021-12-22T21:16:49.984621Z",
     "shell.execute_reply": "2021-12-22T21:16:49.983725Z",
     "shell.execute_reply.started": "2021-12-22T21:16:49.890677Z"
    },
    "run_control": {
     "marked": false
    }
   },
   "outputs": [],
   "source": [
    "tf_transformer = TfidfTransformer(use_idf=True).fit(X_train_cv)\n",
    "X_train_tf = tf_transformer.transform(X_train_cv)\n",
    "X_test_tf = tf_transformer.transform(X_test_cv)"
   ]
  },
  {
   "cell_type": "markdown",
   "metadata": {},
   "source": [
    "Now we can define the Naive Bayes Classifier model"
   ]
  },
  {
   "cell_type": "code",
   "execution_count": 36,
   "metadata": {
    "ExecuteTime": {
     "end_time": "2024-02-18T15:23:39.728077Z",
     "start_time": "2024-02-18T15:23:39.717337Z"
    },
    "execution": {
     "iopub.execute_input": "2021-12-22T21:16:49.986537Z",
     "iopub.status.busy": "2021-12-22T21:16:49.985855Z",
     "iopub.status.idle": "2021-12-22T21:16:49.990851Z",
     "shell.execute_reply": "2021-12-22T21:16:49.989982Z",
     "shell.execute_reply.started": "2021-12-22T21:16:49.986496Z"
    },
    "run_control": {
     "marked": false
    }
   },
   "outputs": [
    {
     "name": "stdout",
     "output_type": "stream",
     "text": [
      "\tClassification Report for Naive Bayes:\n",
      "\n",
      "               precision    recall  f1-score   support\n",
      "\n",
      "           0       0.82      0.85      0.83       977\n",
      "           1       0.84      0.81      0.83       979\n",
      "\n",
      "    accuracy                           0.83      1956\n",
      "   macro avg       0.83      0.83      0.83      1956\n",
      "weighted avg       0.83      0.83      0.83      1956\n",
      "\n"
     ]
    }
   ],
   "source": [
    "nb_clf = MultinomialNB()\n",
    "nb_clf.fit(X_train_tf, y_train)\n",
    "nb_pred = nb_clf.predict(X_test_tf)\n",
    "print('\\tClassification Report for Naive Bayes:\\n\\n',classification_report(y_test,nb_pred))\n"
   ]
  },
  {
   "cell_type": "markdown",
   "metadata": {},
   "source": [
    "# BERT Sentiment Analysis"
   ]
  },
  {
   "cell_type": "code",
   "execution_count": 37,
   "metadata": {
    "ExecuteTime": {
     "end_time": "2024-02-18T15:23:42.774878Z",
     "start_time": "2024-02-18T15:23:39.728728Z"
    },
    "execution": {
     "iopub.execute_input": "2021-12-22T21:16:50.068739Z",
     "iopub.status.busy": "2021-12-22T21:16:50.068345Z",
     "iopub.status.idle": "2021-12-22T21:17:05.894027Z",
     "shell.execute_reply": "2021-12-22T21:17:05.893270Z",
     "shell.execute_reply.started": "2021-12-22T21:16:50.068706Z"
    },
    "run_control": {
     "marked": false
    }
   },
   "outputs": [],
   "source": [
    "# BERT Sentiment Analysis\n",
    "MAX_LEN=128\n",
    "\n",
    "def tokenize(data, max_len=MAX_LEN):\n",
    "    input_ids = []\n",
    "    attention_masks = []\n",
    "    \n",
    "    for item in data:\n",
    "        if not item:  # 检查是否为空字符串或None\n",
    "            item = \" \"  # 将空值替换为一个空格，以避免tokenizer处理时出错\n",
    "        encoded = tokenizer.encode_plus(\n",
    "            item,\n",
    "            add_special_tokens=True,\n",
    "            max_length=max_len,\n",
    "            padding='max_length',\n",
    "            return_attention_mask=True,\n",
    "            truncation=True  # 确保超过最大长度的输入被截断\n",
    "        )\n",
    "        input_ids.append(encoded['input_ids'])\n",
    "        attention_masks.append(encoded['attention_mask'])\n",
    "    \n",
    "    return input_ids, attention_masks\n",
    "\n",
    "train_input_ids, train_attention_masks = tokenize(X_train)\n",
    "val_input_ids, val_attention_masks = tokenize(X_valid)\n",
    "test_input_ids, test_attention_masks = tokenize(X_test)\n"
   ]
  },
  {
   "cell_type": "markdown",
   "metadata": {},
   "source": [
    "# BERT modeling"
   ]
  },
  {
   "cell_type": "code",
   "execution_count": 38,
   "metadata": {
    "ExecuteTime": {
     "end_time": "2024-02-18T15:23:45.414773Z",
     "start_time": "2024-02-18T15:23:42.775705Z"
    },
    "_kg_hide-output": true,
    "execution": {
     "iopub.execute_input": "2021-12-22T21:17:05.895650Z",
     "iopub.status.busy": "2021-12-22T21:17:05.895409Z",
     "iopub.status.idle": "2021-12-22T21:17:08.742590Z",
     "shell.execute_reply": "2021-12-22T21:17:08.741859Z",
     "shell.execute_reply.started": "2021-12-22T21:17:05.895617Z"
    },
    "run_control": {
     "marked": false
    }
   },
   "outputs": [
    {
     "name": "stderr",
     "output_type": "stream",
     "text": [
      "2024-02-18 16:23:42.928071: I metal_plugin/src/device/metal_device.cc:1154] Metal device set to: Apple M2\n",
      "2024-02-18 16:23:42.928105: I metal_plugin/src/device/metal_device.cc:296] systemMemory: 8.00 GB\n",
      "2024-02-18 16:23:42.928111: I metal_plugin/src/device/metal_device.cc:313] maxCacheSize: 2.67 GB\n",
      "2024-02-18 16:23:42.928163: I tensorflow/core/common_runtime/pluggable_device/pluggable_device_factory.cc:306] Could not identify NUMA node of platform GPU ID 0, defaulting to 0. Your kernel may not have been built with NUMA support.\n",
      "2024-02-18 16:23:42.928187: I tensorflow/core/common_runtime/pluggable_device/pluggable_device_factory.cc:272] Created TensorFlow device (/job:localhost/replica:0/task:0/device:GPU:0 with 0 MB memory) -> physical PluggableDevice (device: 0, name: METAL, pci bus id: <undefined>)\n",
      "Some weights of the PyTorch model were not used when initializing the TF 2.0 model TFBertModel: ['cls.predictions.bias', 'cls.predictions.transform.dense.bias', 'cls.predictions.transform.dense.weight', 'cls.predictions.transform.LayerNorm.bias', 'cls.seq_relationship.bias', 'cls.predictions.transform.LayerNorm.weight', 'cls.seq_relationship.weight']\n",
      "- This IS expected if you are initializing TFBertModel from a PyTorch model trained on another task or with another architecture (e.g. initializing a TFBertForSequenceClassification model from a BertForPreTraining model).\n",
      "- This IS NOT expected if you are initializing TFBertModel from a PyTorch model that you expect to be exactly identical (e.g. initializing a TFBertForSequenceClassification model from a BertForSequenceClassification model).\n",
      "All the weights of TFBertModel were initialized from the PyTorch model.\n",
      "If your task is similar to the task the model of the checkpoint was trained on, you can already use TFBertModel for predictions without further training.\n"
     ]
    }
   ],
   "source": [
    "bert_model = TFBertModel.from_pretrained('bert-base-uncased')"
   ]
  },
  {
   "cell_type": "code",
   "execution_count": 39,
   "metadata": {
    "ExecuteTime": {
     "end_time": "2024-02-18T15:23:45.419852Z",
     "start_time": "2024-02-18T15:23:45.416303Z"
    },
    "execution": {
     "iopub.execute_input": "2021-12-22T21:17:08.744637Z",
     "iopub.status.busy": "2021-12-22T21:17:08.744124Z",
     "iopub.status.idle": "2021-12-22T21:17:08.752172Z",
     "shell.execute_reply": "2021-12-22T21:17:08.751417Z",
     "shell.execute_reply.started": "2021-12-22T21:17:08.744596Z"
    },
    "run_control": {
     "marked": false
    }
   },
   "outputs": [],
   "source": [
    "\n",
    "def create_model(bert_model, max_len=MAX_LEN):\n",
    "    \n",
    "    ##params###\n",
    "    opt = tf.keras.optimizers.Adam(learning_rate=1e-5)\n",
    "    loss = tf.keras.losses.BinaryCrossentropy()\n",
    "    accuracy = tf.keras.metrics.BinaryAccuracy()\n",
    "\n",
    "\n",
    "\n",
    "    input_ids = tf.keras.Input(shape=(max_len,),dtype='int32')\n",
    "    \n",
    "    attention_masks = tf.keras.Input(shape=(max_len,),dtype='int32')\n",
    "    \n",
    "    embeddings = bert_model([input_ids,attention_masks])[1]\n",
    "    \n",
    "    output = tf.keras.layers.Dense(1, activation=\"sigmoid\")(embeddings)\n",
    "    \n",
    "    model = tf.keras.models.Model(inputs = [input_ids,attention_masks], outputs = output)\n",
    "    \n",
    "    model.compile(opt, loss=loss, metrics=accuracy)\n",
    "    \n",
    "    \n",
    "    return model\n"
   ]
  },
  {
   "cell_type": "code",
   "execution_count": 40,
   "metadata": {
    "ExecuteTime": {
     "end_time": "2024-02-18T15:23:47.312927Z",
     "start_time": "2024-02-18T15:23:45.420744Z"
    },
    "run_control": {
     "marked": false
    }
   },
   "outputs": [
    {
     "name": "stderr",
     "output_type": "stream",
     "text": [
      "WARNING:absl:At this time, the v2.11+ optimizer `tf.keras.optimizers.Adam` runs slowly on M1/M2 Macs, please use the legacy Keras optimizer instead, located at `tf.keras.optimizers.legacy.Adam`.\n"
     ]
    },
    {
     "name": "stdout",
     "output_type": "stream",
     "text": [
      "Model: \"model\"\n",
      "__________________________________________________________________________________________________\n",
      " Layer (type)                Output Shape                 Param #   Connected to                  \n",
      "==================================================================================================\n",
      " input_1 (InputLayer)        [(None, 128)]                0         []                            \n",
      "                                                                                                  \n",
      " input_2 (InputLayer)        [(None, 128)]                0         []                            \n",
      "                                                                                                  \n",
      " tf_bert_model (TFBertModel  TFBaseModelOutputWithPooli   1094822   ['input_1[0][0]',             \n",
      " )                           ngAndCrossAttentions(last_   40         'input_2[0][0]']             \n",
      "                             hidden_state=(None, 128, 7                                           \n",
      "                             68),                                                                 \n",
      "                              pooler_output=(None, 768)                                           \n",
      "                             , past_key_values=None, hi                                           \n",
      "                             dden_states=None, attentio                                           \n",
      "                             ns=None, cross_attentions=                                           \n",
      "                             None)                                                                \n",
      "                                                                                                  \n",
      " dense (Dense)               (None, 1)                    769       ['tf_bert_model[0][1]']       \n",
      "                                                                                                  \n",
      "==================================================================================================\n",
      "Total params: 109483009 (417.64 MB)\n",
      "Trainable params: 109483009 (417.64 MB)\n",
      "Non-trainable params: 0 (0.00 Byte)\n",
      "__________________________________________________________________________________________________\n"
     ]
    }
   ],
   "source": [
    "\n",
    "model = create_model(bert_model, MAX_LEN)\n",
    "model.summary()\n",
    "\n",
    "\n"
   ]
  },
  {
   "cell_type": "markdown",
   "metadata": {},
   "source": [
    "Finally we can start fine tuning the BERT transformer !"
   ]
  },
  {
   "cell_type": "code",
   "execution_count": null,
   "metadata": {
    "ExecuteTime": {
     "start_time": "2024-02-18T15:23:30.468Z"
    },
    "execution": {
     "iopub.execute_input": "2021-12-22T21:17:10.213855Z",
     "iopub.status.busy": "2021-12-22T21:17:10.213370Z",
     "iopub.status.idle": "2021-12-22T22:06:54.439353Z",
     "shell.execute_reply": "2021-12-22T22:06:54.438631Z",
     "shell.execute_reply.started": "2021-12-22T21:17:10.213816Z"
    },
    "run_control": {
     "marked": false
    }
   },
   "outputs": [
    {
     "name": "stdout",
     "output_type": "stream",
     "text": [
      "Epoch 1/5\n"
     ]
    },
    {
     "name": "stderr",
     "output_type": "stream",
     "text": [
      "2024-02-18 16:23:56.772067: I tensorflow/core/grappler/optimizers/custom_graph_optimizer_registry.cc:117] Plugin optimizer for device_type GPU is enabled.\n"
     ]
    }
   ],
   "source": [
    "\n",
    "train_input_ids = np.array(train_input_ids)\n",
    "train_attention_masks = np.array(train_attention_masks)\n",
    "val_input_ids = np.array(val_input_ids)\n",
    "val_attention_masks = np.array(val_attention_masks)\n",
    "\n",
    "\n",
    "history_bert = model.fit(\n",
    "    [train_input_ids, train_attention_masks], \n",
    "    y_train, \n",
    "    validation_data=([val_input_ids, val_attention_masks], y_valid), \n",
    "    epochs=5, \n",
    "    batch_size=32\n",
    ")\n",
    "\n",
    "# 保存模型到本地\n",
    "model.save('bert-base-uncased_trained.h5')\n"
   ]
  },
  {
   "attachments": {
    "image.png": {
     "image/png": "[encoded data removed]"
    }
   },
   "cell_type": "markdown",
   "metadata": {},
   "source": [
    "![image.png](attachment:image.png)\n",
    "lack of computational resources, here is the system crash message."
   ]
  },
  {
   "cell_type": "markdown",
   "metadata": {},
   "source": [
    "# BERT results"
   ]
  },
  {
   "cell_type": "code",
   "execution_count": null,
   "metadata": {
    "ExecuteTime": {
     "start_time": "2024-02-18T15:23:30.487Z"
    },
    "execution": {
     "iopub.execute_input": "2021-12-22T22:06:54.441322Z",
     "iopub.status.busy": "2021-12-22T22:06:54.441058Z",
     "iopub.status.idle": "2021-12-22T22:07:16.077636Z",
     "shell.execute_reply": "2021-12-22T22:07:16.076752Z",
     "shell.execute_reply.started": "2021-12-22T22:06:54.441287Z"
    },
    "run_control": {
     "marked": false
    }
   },
   "outputs": [],
   "source": [
    "result_bert = model.predict([test_input_ids,test_attention_masks])"
   ]
  },
  {
   "cell_type": "code",
   "execution_count": null,
   "metadata": {
    "ExecuteTime": {
     "start_time": "2024-02-18T15:23:30.487Z"
    },
    "execution": {
     "iopub.execute_input": "2021-12-22T22:07:16.081513Z",
     "iopub.status.busy": "2021-12-22T22:07:16.081165Z",
     "iopub.status.idle": "2021-12-22T22:07:16.087746Z",
     "shell.execute_reply": "2021-12-22T22:07:16.087002Z",
     "shell.execute_reply.started": "2021-12-22T22:07:16.081482Z"
    },
    "run_control": {
     "marked": false
    }
   },
   "outputs": [],
   "source": [
    "y_pred_bert =  np.zeros_like(result_bert)\n",
    "y_pred_bert[np.arange(len(y_pred_bert)), result_bert.argmax(1)] = 1"
   ]
  },
  {
   "cell_type": "code",
   "execution_count": null,
   "metadata": {
    "ExecuteTime": {
     "start_time": "2024-02-18T15:23:30.488Z"
    },
    "_kg_hide-input": true,
    "execution": {
     "iopub.execute_input": "2021-12-22T22:07:16.089448Z",
     "iopub.status.busy": "2021-12-22T22:07:16.089167Z",
     "iopub.status.idle": "2021-12-22T22:07:16.318816Z",
     "shell.execute_reply": "2021-12-22T22:07:16.318033Z",
     "shell.execute_reply.started": "2021-12-22T22:07:16.089414Z"
    },
    "run_control": {
     "marked": false
    }
   },
   "outputs": [],
   "source": [
    "conf_matrix(y_test.argmax(1), y_pred_bert.argmax(1),'BERT Sentiment Analysis\\nConfusion Matrix')"
   ]
  },
  {
   "cell_type": "code",
   "execution_count": null,
   "metadata": {
    "ExecuteTime": {
     "start_time": "2024-02-18T15:23:30.488Z"
    },
    "_kg_hide-input": true,
    "execution": {
     "iopub.execute_input": "2021-12-22T22:07:16.320692Z",
     "iopub.status.busy": "2021-12-22T22:07:16.319940Z",
     "iopub.status.idle": "2021-12-22T22:07:16.345718Z",
     "shell.execute_reply": "2021-12-22T22:07:16.345014Z",
     "shell.execute_reply.started": "2021-12-22T22:07:16.320653Z"
    },
    "run_control": {
     "marked": false
    }
   },
   "outputs": [],
   "source": [
    "print('\\tClassification Report for BERT:\\n\\n',classification_report(y_test,y_pred_bert, target_names=['Negative', 'Neutral', 'Positive']))"
   ]
  }
 ],
 "metadata": {
  "hide_input": false,
  "kernelspec": {
   "display_name": "Python 3 (ipykernel)",
   "language": "python",
   "name": "python3"
  },
  "language_info": {
   "codemirror_mode": {
    "name": "ipython",
    "version": 3
   },
   "file_extension": ".py",
   "mimetype": "text/x-python",
   "name": "python",
   "nbconvert_exporter": "python",
   "pygments_lexer": "ipython3",
   "version": "3.11.5"
  },
  "toc": {
   "base_numbering": 1,
   "nav_menu": {},
   "number_sections": true,
   "sideBar": true,
   "skip_h1_title": false,
   "title_cell": "Table of Contents",
   "title_sidebar": "Contents",
   "toc_cell": false,
   "toc_position": {},
   "toc_section_display": true,
   "toc_window_display": false
  }
 },
 "nbformat": 4,
 "nbformat_minor": 4
}
