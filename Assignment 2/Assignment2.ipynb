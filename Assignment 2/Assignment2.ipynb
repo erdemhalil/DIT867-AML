{
  "cells": [
    {
      "cell_type": "markdown",
      "metadata": {
        "id": "B1qrrHVJIaIC"
      },
      "source": [
        "**Course Name：** DAT341 / DIT867 Applied Machine Learning\n",
        "\n",
        "**Examiner：** Richard Johansson (richajo@chalmers.se)\n",
        "\n",
        "**Assignment No.:** Assignment 2 - Random forests\n",
        "\n",
        "**Release Date:** Fri, 19 Jan 2024 0:00am\n",
        "\n",
        "**Due Date:** Tue, 30 Jan 2024 11:59pm\n",
        "\n",
        "**Group Name:** PA 2 3\n",
        "\n",
        "**Group Members:**\n",
        "- Natalia Alvarado (gusalvarsi@student.gu.se)\n",
        "- Erdem Halil (gushaliler@student.gu.se)\n",
        "- Xujie Li (guslixuf@student.gu.se)\n"
      ]
    },
    {
      "cell_type": "code",
      "execution_count": null,
      "metadata": {
        "colab": {
          "base_uri": "https://localhost:8080/"
        },
        "id": "z60JY7BhIE2Q",
        "outputId": "1eae634e-c1d2-427c-8357-481b8f14f920"
      },
      "outputs": [
        {
          "name": "stdout",
          "output_type": "stream",
          "text": [
            "Mounted at /content/drive\n"
          ]
        }
      ],
      "source": [
        "from google.colab import drive\n",
        "import sys\n",
        "\n",
        "drive.mount('/content/drive')\n",
        "\n",
        "# Adjust the path to point to the folder in my Google Drive\n",
        "folder_path = '/content/drive/My Drive/DIT867_AML/Assignment_2'\n",
        "sys.path.append(folder_path)\n"
      ]
    },
    {
      "cell_type": "markdown",
      "metadata": {
        "id": "47J_qwbQLYp3"
      },
      "source": [
        "# **Task 1: Working with a dataset with categorical features**\n",
        "## **Step 1. Reading the data**"
      ]
    },
    {
      "cell_type": "code",
      "execution_count": 1,
      "metadata": {
        "id": "y9bOb_PVJHnE"
      },
      "outputs": [],
      "source": [
        "import pandas as pd\n",
        "import numpy as np\n",
        "import matplotlib.pyplot as plt\n",
        "from time import time"
      ]
    },
    {
      "cell_type": "code",
      "execution_count": 2,
      "metadata": {
        "id": "aBGeU8-ILrvF"
      },
      "outputs": [],
      "source": [
        "# Read train and test data\n",
        "adult_train = pd.read_csv(f'{folder_path}/adult_train.csv')\n",
        "adult_test = pd.read_csv(f'{folder_path}/adult_test.csv')\n",
        "\n",
        "# Shuffle the train data\n",
        "adult_train = adult_train.sample(frac=1.0, random_state=0)\n",
        "\n",
        "\n",
        "# Split train and test data into features and target\n",
        "Xtrain = adult_train.drop('target', axis=1)\n",
        "Ytrain = adult_train['target']\n",
        "Xtest = adult_test.drop('target', axis=1)\n",
        "Ytest = adult_test['target']\n"
      ]
    },
    {
      "cell_type": "markdown",
      "metadata": {
        "id": "LTbQE94FLsEC"
      },
      "source": [
        "## **Step 2: Encoding the features as numbers.**"
      ]
    },
    {
      "cell_type": "code",
      "execution_count": 3,
      "metadata": {
        "id": "jR_GlzpWLvwD"
      },
      "outputs": [],
      "source": [
        "from sklearn.feature_extraction import DictVectorizer\n",
        "\n",
        "# Convert data to dictionary\n",
        "Xtrain_dict = Xtrain.to_dict('records')\n",
        "Xtest_dict = Xtest.to_dict('records')\n",
        "\n",
        "dv = DictVectorizer()\n",
        "\n",
        "# Fit and transform test and training data with DictVectorizer\n",
        "Xtrain_encoded = dv.fit_transform(Xtrain_dict)\n",
        "# NOTE: No need to train the DictVectorizer on the test data\n",
        "# So we only call transform\n",
        "Xtest_encoded = dv.transform(Xtest_dict)"
      ]
    },
    {
      "cell_type": "code",
      "execution_count": 4,
      "metadata": {
        "id": "cYje_0tWLyJT"
      },
      "outputs": [
        {
          "data": {
            "text/plain": [
              "0.865636879708736"
            ]
          },
          "execution_count": 4,
          "metadata": {},
          "output_type": "execute_result"
        }
      ],
      "source": [
        "from sklearn.ensemble import GradientBoostingClassifier\n",
        "from sklearn.model_selection import cross_val_score\n",
        "\n",
        "gbc = GradientBoostingClassifier()\n",
        "\n",
        "# Get the mean cross validation score for the training data on GBC\n",
        "cv_train = cross_val_score(gbc, Xtrain_encoded, Ytrain).mean()\n",
        "cv_train"
      ]
    },
    {
      "cell_type": "code",
      "execution_count": 5,
      "metadata": {
        "id": "ofTgrz-cLyMD"
      },
      "outputs": [
        {
          "data": {
            "text/plain": [
              "0.8711381364781033"
            ]
          },
          "execution_count": 5,
          "metadata": {},
          "output_type": "execute_result"
        }
      ],
      "source": [
        "# Fit the model on the training data\n",
        "gbc.fit(Xtrain_encoded, Ytrain)\n",
        "\n",
        "# Evaluate on the test data and print the result\n",
        "accuracy_test = gbc.score(Xtest_encoded, Ytest)\n",
        "accuracy_test"
      ]
    },
    {
      "cell_type": "markdown",
      "metadata": {
        "id": "-idSFqb2LzIU"
      },
      "source": [
        "## **Step 3. Combining the steps.**"
      ]
    },
    {
      "cell_type": "code",
      "execution_count": 6,
      "metadata": {
        "id": "xdyvmOe9L3Iz"
      },
      "outputs": [
        {
          "data": {
            "text/plain": [
              "0.865636879708736"
            ]
          },
          "execution_count": 6,
          "metadata": {},
          "output_type": "execute_result"
        }
      ],
      "source": [
        "from sklearn.pipeline import make_pipeline\n",
        "\n",
        "pipeline = make_pipeline(\n",
        "    DictVectorizer(),\n",
        "    GradientBoostingClassifier()\n",
        ")\n",
        "\n",
        "cv_train = cross_val_score(pipeline, Xtrain_dict, Ytrain).mean()\n",
        "cv_train"
      ]
    },
    {
      "cell_type": "code",
      "execution_count": 7,
      "metadata": {
        "id": "ms7xdFNBL3gh"
      },
      "outputs": [
        {
          "data": {
            "text/plain": [
              "0.8711381364781033"
            ]
          },
          "execution_count": 7,
          "metadata": {},
          "output_type": "execute_result"
        }
      ],
      "source": [
        "# Fit the pipeline on the training data\n",
        "pipeline.fit(Xtrain_dict, Ytrain)\n",
        "\n",
        "# Get the accuracy on the test data\n",
        "pipeline.score(Xtest_dict, Ytest)"
      ]
    },
    {
      "cell_type": "markdown",
      "metadata": {
        "id": "iLCJm9EEL30a"
      },
      "source": [
        "# **Task 2: Decision trees and random forests**\n",
        "## **Underfitting and overfitting in decision tree classifiers.**"
      ]
    },
    {
      "cell_type": "code",
      "execution_count": null,
      "metadata": {
        "id": "aQP3g9otL7n9"
      },
      "outputs": [],
      "source": []
    },
    {
      "cell_type": "code",
      "execution_count": null,
      "metadata": {
        "id": "nGVsf6ZEL8Bo"
      },
      "outputs": [],
      "source": []
    },
    {
      "cell_type": "code",
      "execution_count": null,
      "metadata": {
        "id": "eSB54Y_LL8EF"
      },
      "outputs": [],
      "source": []
    },
    {
      "cell_type": "code",
      "execution_count": null,
      "metadata": {
        "id": "GCUS4-PwL8Gk"
      },
      "outputs": [],
      "source": []
    },
    {
      "cell_type": "code",
      "execution_count": null,
      "metadata": {
        "id": "hDbHF9tFL8Ji"
      },
      "outputs": [],
      "source": []
    },
    {
      "cell_type": "code",
      "execution_count": null,
      "metadata": {
        "id": "8QAE6WIvL8Mp"
      },
      "outputs": [],
      "source": []
    },
    {
      "cell_type": "markdown",
      "metadata": {
        "id": "d5gJEOLtL8cb"
      },
      "source": [
        "## **Underfitting and overfitting in random forest classifiers.**"
      ]
    },
    {
      "cell_type": "code",
      "execution_count": null,
      "metadata": {
        "id": "2hsRAVcPMN9H"
      },
      "outputs": [],
      "source": []
    },
    {
      "cell_type": "code",
      "execution_count": null,
      "metadata": {
        "id": "xR8PGk8XMOTk"
      },
      "outputs": [],
      "source": []
    },
    {
      "cell_type": "code",
      "execution_count": null,
      "metadata": {
        "id": "chKnUsziMOV-"
      },
      "outputs": [],
      "source": []
    },
    {
      "cell_type": "code",
      "execution_count": null,
      "metadata": {
        "id": "dHUqz25XMOYV"
      },
      "outputs": [],
      "source": []
    },
    {
      "cell_type": "code",
      "execution_count": null,
      "metadata": {
        "id": "dh9CVxnmMOa7"
      },
      "outputs": [],
      "source": []
    },
    {
      "cell_type": "code",
      "execution_count": null,
      "metadata": {
        "id": "p0B9hu34MOdi"
      },
      "outputs": [],
      "source": []
    },
    {
      "cell_type": "markdown",
      "metadata": {
        "id": "anmjWJjLMO09"
      },
      "source": [
        "# **Task 3: Feature importances in random forest classifiers**"
      ]
    },
    {
      "cell_type": "code",
      "execution_count": null,
      "metadata": {
        "id": "nnlzI-htMUPq"
      },
      "outputs": [],
      "source": []
    },
    {
      "cell_type": "code",
      "execution_count": null,
      "metadata": {
        "id": "VA56sCs-MU88"
      },
      "outputs": [],
      "source": []
    },
    {
      "cell_type": "code",
      "execution_count": null,
      "metadata": {
        "id": "OZ0TQh8RMU_h"
      },
      "outputs": [],
      "source": []
    },
    {
      "cell_type": "code",
      "execution_count": null,
      "metadata": {
        "id": "qbGVy7tsMVB_"
      },
      "outputs": [],
      "source": []
    },
    {
      "cell_type": "code",
      "execution_count": null,
      "metadata": {
        "id": "ihwdPjzLMVEm"
      },
      "outputs": [],
      "source": []
    },
    {
      "cell_type": "code",
      "execution_count": null,
      "metadata": {
        "id": "p6gmEiVGMVH9"
      },
      "outputs": [],
      "source": []
    }
  ],
  "metadata": {
    "colab": {
      "provenance": []
    },
    "kernelspec": {
      "display_name": "Python 3",
      "name": "python3"
    },
    "language_info": {
      "codemirror_mode": {
        "name": "ipython",
        "version": 3
      },
      "file_extension": ".py",
      "mimetype": "text/x-python",
      "name": "python",
      "nbconvert_exporter": "python",
      "pygments_lexer": "ipython3",
      "version": "3.11.7"
    }
  },
  "nbformat": 4,
  "nbformat_minor": 0
}
