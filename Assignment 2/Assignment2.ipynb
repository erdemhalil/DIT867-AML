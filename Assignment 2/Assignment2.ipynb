{
  "nbformat": 4,
  "nbformat_minor": 0,
  "metadata": {
    "colab": {
      "provenance": []
    },
    "kernelspec": {
      "name": "python3",
      "display_name": "Python 3"
    },
    "language_info": {
      "name": "python"
    }
  },
  "cells": [
    {
      "cell_type": "markdown",
      "source": [
        "**Course Name：** DAT341 / DIT867 Applied Machine Learning\n",
        "\n",
        "**Examiner：** Richard Johansson (richajo@chalmers.se)\n",
        "\n",
        "**Assignment No.:** Assignment 1 - Introductory tour and Decision Trees\n",
        "\n",
        "**Release Date:** Fri, 19 Jan 2024 0:00am\n",
        "\n",
        "**Due Date:** Tue, 30 Jan 2024 11:59pm\n",
        "\n",
        "**Group Name:** PA 2 3\n",
        "\n",
        "**Group Members:**\n",
        "- Natalia Alvarado (gusalvarsi@student.gu.se)\n",
        "- Erdem Halil (gushaliler@student.gu.se)\n",
        "- Xujie Li (guslixuf@student.gu.se)\n"
      ],
      "metadata": {
        "id": "B1qrrHVJIaIC"
      }
    },
    {
      "cell_type": "code",
      "execution_count": null,
      "metadata": {
        "colab": {
          "base_uri": "https://localhost:8080/"
        },
        "id": "z60JY7BhIE2Q",
        "outputId": "1eae634e-c1d2-427c-8357-481b8f14f920"
      },
      "outputs": [
        {
          "output_type": "stream",
          "name": "stdout",
          "text": [
            "Mounted at /content/drive\n"
          ]
        }
      ],
      "source": [
        "from google.colab import drive\n",
        "import sys\n",
        "\n",
        "drive.mount('/content/drive')\n",
        "\n",
        "# Adjust the path to point to the folder in my Google Drive\n",
        "folder_path = '/content/drive/My Drive/DIT867_AML/Assignment_2'\n",
        "sys.path.append(folder_path)\n"
      ]
    },
    {
      "cell_type": "markdown",
      "source": [
        "# **Task 1: Working with a dataset with categorical features**\n",
        "## **Step 1. Reading the data**"
      ],
      "metadata": {
        "id": "47J_qwbQLYp3"
      }
    },
    {
      "cell_type": "code",
      "source": [],
      "metadata": {
        "id": "y9bOb_PVJHnE"
      },
      "execution_count": null,
      "outputs": []
    },
    {
      "cell_type": "code",
      "source": [],
      "metadata": {
        "id": "aBGeU8-ILrvF"
      },
      "execution_count": null,
      "outputs": []
    },
    {
      "cell_type": "code",
      "source": [],
      "metadata": {
        "id": "JtorbY4lLrxe"
      },
      "execution_count": null,
      "outputs": []
    },
    {
      "cell_type": "code",
      "source": [],
      "metadata": {
        "id": "vB9vsDQ5Lrz-"
      },
      "execution_count": null,
      "outputs": []
    },
    {
      "cell_type": "code",
      "source": [],
      "metadata": {
        "id": "_048GOECLr2k"
      },
      "execution_count": null,
      "outputs": []
    },
    {
      "cell_type": "code",
      "source": [],
      "metadata": {
        "id": "E9JJ1K5fLr5S"
      },
      "execution_count": null,
      "outputs": []
    },
    {
      "cell_type": "markdown",
      "source": [
        "## **Step 2: Encoding the features as numbers.**"
      ],
      "metadata": {
        "id": "LTbQE94FLsEC"
      }
    },
    {
      "cell_type": "code",
      "source": [],
      "metadata": {
        "id": "jR_GlzpWLvwD"
      },
      "execution_count": null,
      "outputs": []
    },
    {
      "cell_type": "code",
      "source": [],
      "metadata": {
        "id": "cYje_0tWLyJT"
      },
      "execution_count": null,
      "outputs": []
    },
    {
      "cell_type": "code",
      "source": [],
      "metadata": {
        "id": "ofTgrz-cLyMD"
      },
      "execution_count": null,
      "outputs": []
    },
    {
      "cell_type": "code",
      "source": [],
      "metadata": {
        "id": "0M7Jh0PmLyOq"
      },
      "execution_count": null,
      "outputs": []
    },
    {
      "cell_type": "code",
      "source": [],
      "metadata": {
        "id": "lO6s0T8PLyRQ"
      },
      "execution_count": null,
      "outputs": []
    },
    {
      "cell_type": "code",
      "source": [],
      "metadata": {
        "id": "NAhpryP_Lyb9"
      },
      "execution_count": null,
      "outputs": []
    },
    {
      "cell_type": "markdown",
      "source": [
        "## **Step 3. Combining the steps.**"
      ],
      "metadata": {
        "id": "-idSFqb2LzIU"
      }
    },
    {
      "cell_type": "code",
      "source": [],
      "metadata": {
        "id": "xdyvmOe9L3Iz"
      },
      "execution_count": null,
      "outputs": []
    },
    {
      "cell_type": "code",
      "source": [],
      "metadata": {
        "id": "ms7xdFNBL3gh"
      },
      "execution_count": null,
      "outputs": []
    },
    {
      "cell_type": "code",
      "source": [],
      "metadata": {
        "id": "jivf6fl6L3jL"
      },
      "execution_count": null,
      "outputs": []
    },
    {
      "cell_type": "code",
      "source": [],
      "metadata": {
        "id": "U0qnDKMBL3lo"
      },
      "execution_count": null,
      "outputs": []
    },
    {
      "cell_type": "code",
      "source": [],
      "metadata": {
        "id": "XfO0lWciL3oX"
      },
      "execution_count": null,
      "outputs": []
    },
    {
      "cell_type": "code",
      "source": [],
      "metadata": {
        "id": "GfinjJ28L3rF"
      },
      "execution_count": null,
      "outputs": []
    },
    {
      "cell_type": "markdown",
      "source": [
        "# **Task 2: Decision trees and random forests**\n",
        "## **Underfitting and overfitting in decision tree classifiers.**"
      ],
      "metadata": {
        "id": "iLCJm9EEL30a"
      }
    },
    {
      "cell_type": "code",
      "source": [],
      "metadata": {
        "id": "aQP3g9otL7n9"
      },
      "execution_count": null,
      "outputs": []
    },
    {
      "cell_type": "code",
      "source": [],
      "metadata": {
        "id": "nGVsf6ZEL8Bo"
      },
      "execution_count": null,
      "outputs": []
    },
    {
      "cell_type": "code",
      "source": [],
      "metadata": {
        "id": "eSB54Y_LL8EF"
      },
      "execution_count": null,
      "outputs": []
    },
    {
      "cell_type": "code",
      "source": [],
      "metadata": {
        "id": "GCUS4-PwL8Gk"
      },
      "execution_count": null,
      "outputs": []
    },
    {
      "cell_type": "code",
      "source": [],
      "metadata": {
        "id": "hDbHF9tFL8Ji"
      },
      "execution_count": null,
      "outputs": []
    },
    {
      "cell_type": "code",
      "source": [],
      "metadata": {
        "id": "8QAE6WIvL8Mp"
      },
      "execution_count": null,
      "outputs": []
    },
    {
      "cell_type": "markdown",
      "source": [
        "## **Underfitting and overfitting in random forest classifiers.**"
      ],
      "metadata": {
        "id": "d5gJEOLtL8cb"
      }
    },
    {
      "cell_type": "code",
      "source": [],
      "metadata": {
        "id": "2hsRAVcPMN9H"
      },
      "execution_count": null,
      "outputs": []
    },
    {
      "cell_type": "code",
      "source": [],
      "metadata": {
        "id": "xR8PGk8XMOTk"
      },
      "execution_count": null,
      "outputs": []
    },
    {
      "cell_type": "code",
      "source": [],
      "metadata": {
        "id": "chKnUsziMOV-"
      },
      "execution_count": null,
      "outputs": []
    },
    {
      "cell_type": "code",
      "source": [],
      "metadata": {
        "id": "dHUqz25XMOYV"
      },
      "execution_count": null,
      "outputs": []
    },
    {
      "cell_type": "code",
      "source": [],
      "metadata": {
        "id": "dh9CVxnmMOa7"
      },
      "execution_count": null,
      "outputs": []
    },
    {
      "cell_type": "code",
      "source": [],
      "metadata": {
        "id": "p0B9hu34MOdi"
      },
      "execution_count": null,
      "outputs": []
    },
    {
      "cell_type": "markdown",
      "source": [
        "# **Task 3: Feature importances in random forest classifiers**"
      ],
      "metadata": {
        "id": "anmjWJjLMO09"
      }
    },
    {
      "cell_type": "code",
      "source": [],
      "metadata": {
        "id": "nnlzI-htMUPq"
      },
      "execution_count": null,
      "outputs": []
    },
    {
      "cell_type": "code",
      "source": [],
      "metadata": {
        "id": "VA56sCs-MU88"
      },
      "execution_count": null,
      "outputs": []
    },
    {
      "cell_type": "code",
      "source": [],
      "metadata": {
        "id": "OZ0TQh8RMU_h"
      },
      "execution_count": null,
      "outputs": []
    },
    {
      "cell_type": "code",
      "source": [],
      "metadata": {
        "id": "qbGVy7tsMVB_"
      },
      "execution_count": null,
      "outputs": []
    },
    {
      "cell_type": "code",
      "source": [],
      "metadata": {
        "id": "ihwdPjzLMVEm"
      },
      "execution_count": null,
      "outputs": []
    },
    {
      "cell_type": "code",
      "source": [],
      "metadata": {
        "id": "p6gmEiVGMVH9"
      },
      "execution_count": null,
      "outputs": []
    }
  ]
}